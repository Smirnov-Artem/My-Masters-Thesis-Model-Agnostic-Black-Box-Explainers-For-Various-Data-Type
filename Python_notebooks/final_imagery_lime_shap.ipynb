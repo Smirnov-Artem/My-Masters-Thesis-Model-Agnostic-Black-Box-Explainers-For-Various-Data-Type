{
 "cells": [
  {
   "cell_type": "code",
   "execution_count": 60,
   "metadata": {},
   "outputs": [],
   "source": [
    "# Code from https://lime-ml.readthedocs.io/en/latest/lime.html, LIME for Python.\n",
    "# I added comments due to the lack of documentation. I also included some changes, so I use \"slic\" only.\n",
    "# Onr can find also interim results for perturbed_images and ridge_input_x."
   ]
  },
  {
   "cell_type": "code",
   "execution_count": 61,
   "metadata": {},
   "outputs": [],
   "source": [
    "from keras.models import load_model\n",
    "from keras.preprocessing.image import load_img, img_to_array\n",
    "import cv2 as cv\n",
    "from PIL import Image\n",
    "import numpy as np \n",
    "import pandas as pd \n",
    "import plotly.express as px\n",
    "import matplotlib.pyplot as plt\n",
    "from skimage.segmentation import slic, mark_boundaries\n",
    "from matplotlib.colors import LinearSegmentedColormap\n",
    "import warnings\n",
    "import time\n",
    "# Explainers:\n",
    "import shap\n",
    "from keras.applications.resnet50 import preprocess_input\n",
    "# LIME: libraries for the code from  https://lime-ml.readthedocs.io/en/latest/lime.html\n",
    "from skimage import segmentation\n",
    "from keras.preprocessing import image as image_keras\n",
    "import copy\n",
    "from functools import partial\n",
    "import scipy as sp\n",
    "from sklearn.linear_model import Ridge, lars_path\n",
    "from sklearn.utils import check_random_state\n",
    "import sklearn\n",
    "from skimage.color import gray2rgb\n",
    "from tqdm.auto import tqdm\n",
    "import types\n",
    "from lime.utils.generic_utils import has_arg"
   ]
  },
  {
   "cell_type": "code",
   "execution_count": 62,
   "metadata": {},
   "outputs": [],
   "source": [
    "########################################################################################################################################################################\n",
    "# Common part\n",
    "########################################################################################################################################################################"
   ]
  },
  {
   "cell_type": "code",
   "execution_count": 63,
   "metadata": {},
   "outputs": [],
   "source": [
    "model = load_model('model.mdl_wts.hdf5')\n",
    "height = 50\n",
    "width = 50\n",
    "my_information = {\n",
    "                0: '20km', 1: '30km', \n",
    "                2: '50km', 3: '60km', \n",
    "                4: '70km', 5: '80km',\n",
    "                6: '80km_crossed', 7: '100km',\n",
    "                8: '120km', 9: 'no_overtaking', \n",
    "                10: 'no_overtaking_for_tracks', 11: 'crossroads',\n",
    "                12: 'priority_roads', 13: 'give_way', \n",
    "                14: 'stop', 15: 'road_closed', \n",
    "                16: 'no_tractor', 17: 'no_entry',\n",
    "                18: 'attention', 19: 'sharp_curve_left', \n",
    "                20: 'sharp_curve_right', 21: 'zigzag_left',\n",
    "                22: 'rough_road', 23: 'car_skid',\n",
    "                24: 'road_narrowing_right', 25: 'road_works', \n",
    "                26: 'traffic_light', 27: 'crosswalk', \n",
    "                28: 'children_crossing', 29: 'bike_road',\n",
    "                30: 'snow', 31: 'wild_animal', \n",
    "                32: 'derestriction', 33: 'mandatory_right_turn', \n",
    "                34: 'mandatory_left_turn', 35: 'mandatory_straight_ahead',\n",
    "                36: 'mandatory_straight_ahead_or_turning_right', 37: 'mandatory_straight_ahead_or_turning_left', \n",
    "                38: 'mandatory_passing_right', 39: 'mandatory_passing_left', \n",
    "                40: 'mandatory_direction_of_the_roundabout', 41: 'derestriction_of_overtaking', \n",
    "                42: 'derestriction_of_overtaking_for_tracks'}"
   ]
  },
  {
   "cell_type": "code",
   "execution_count": 64,
   "metadata": {},
   "outputs": [
    {
     "name": "stdout",
     "output_type": "stream",
     "text": [
      "1/1 [==============================] - 0s 33ms/step\n"
     ]
    },
    {
     "data": {
      "text/plain": [
       "(1, 50, 50, 3)"
      ]
     },
     "execution_count": 64,
     "metadata": {},
     "output_type": "execute_result"
    }
   ],
   "source": [
    "data=[]\n",
    "image=cv.imread('.../Test/00001.png')\n",
    "imageRGB = cv.cvtColor(image, cv.COLOR_BGR2RGB)\n",
    "img = Image.fromarray(imageRGB)\n",
    "image_from_array = img\n",
    "size_image = image_from_array.resize((height, width))\n",
    "data.append(np.array(size_image))\n",
    "X_test=np.array(data)\n",
    "X_test = X_test.astype('float32')/255 \n",
    "predict_x=model.predict(X_test) \n",
    "classes_x=np.argmax(predict_x,axis=1)\n",
    "X_test.shape"
   ]
  },
  {
   "cell_type": "code",
   "execution_count": 65,
   "metadata": {},
   "outputs": [
    {
     "name": "stdout",
     "output_type": "stream",
     "text": [
      "1/1 [==============================] - 0s 11ms/step\n",
      "[4.690099859393556e-34, 1.0, 1.2637946652696158e-31, 0.0, 1.3149640004824672e-34, 9.64073198505937e-26, 1.0136422482191054e-37, 0.0, 0.0, 0.0, 0.0, 0.0, 0.0, 0.0, 0.0, 0.0, 0.0, 0.0, 0.0, 0.0, 0.0, 0.0, 0.0, 0.0, 0.0, 0.0, 0.0, 0.0, 0.0, 0.0, 0.0, 0.0, 0.0, 0.0, 0.0, 0.0, 0.0, 0.0, 0.0, 0.0, 0.0, 0.0, 0.0]\n"
     ]
    },
    {
     "data": {
      "image/png": "[encoded data removed]",
      "text/plain": [
       "<Figure size 640x480 with 1 Axes>"
      ]
     },
     "metadata": {},
     "output_type": "display_data"
    }
   ],
   "source": [
    "# predict the class\n",
    "result = model.predict(X_test)\n",
    "feature_names = my_information.values()\n",
    "top_preds = np.argsort(-result)\n",
    "inds = top_preds[0]\n",
    "#feature_names = [feature_names[i] for i in inds]\n",
    "result = result.tolist()\n",
    "top_5_pred = pd.DataFrame(\n",
    "\t{'feature_names': feature_names,\n",
    "\t'probability': result[0]\n",
    "\t})\n",
    "top_5_pred = top_5_pred.sort_values(by='probability', ascending=False)[0:5]\n",
    "top_5_pred.plot(x=\"feature_names\", y='probability', kind='bar', title='Top 5 Predictions')\n",
    "print(result[0])"
   ]
  },
  {
   "cell_type": "code",
   "execution_count": 66,
   "metadata": {},
   "outputs": [
    {
     "data": {
      "application/vnd.plotly.v1+json": {
       "config": {
        "plotlyServerURL": "https://plot.ly"
       },
       "data": [
        {
         "alignmentgroup": "True",
         "hovertemplate": "feature_names=%{x}<br>probability=%{y}<extra></extra>",
         "legendgroup": "",
         "marker": {
          "color": "#636efa",
          "pattern": {
           "shape": ""
          }
         },
         "name": "",
         "offsetgroup": "",
         "orientation": "v",
         "showlegend": false,
         "textposition": "auto",
         "type": "bar",
         "x": [
          "30km",
          "80km",
          "50km",
          "20km",
          "70km"
         ],
         "xaxis": "x",
         "y": [
          1,
          9.64073198505937e-26,
          1.2637946652696158e-31,
          4.690099859393556e-34,
          1.3149640004824672e-34
         ],
         "yaxis": "y"
        }
       ],
       "layout": {
        "barmode": "relative",
        "font": {
         "size": 25
        },
        "height": 1000,
        "legend": {
         "tracegroupgap": 0
        },
        "margin": {
         "b": 20,
         "l": 20,
         "r": 20,
         "t": 20
        },
        "paper_bgcolor": "LightSteelBlue",
        "template": {
         "data": {
          "bar": [
           {
            "error_x": {
             "color": "#2a3f5f"
            },
            "error_y": {
             "color": "#2a3f5f"
            },
            "marker": {
             "line": {
              "color": "#E5ECF6",
              "width": 0.5
             },
             "pattern": {
              "fillmode": "overlay",
              "size": 10,
              "solidity": 0.2
             }
            },
            "type": "bar"
           }
          ],
          "barpolar": [
           {
            "marker": {
             "line": {
              "color": "#E5ECF6",
              "width": 0.5
             },
             "pattern": {
              "fillmode": "overlay",
              "size": 10,
              "solidity": 0.2
             }
            },
            "type": "barpolar"
           }
          ],
          "carpet": [
           {
            "aaxis": {
             "endlinecolor": "#2a3f5f",
             "gridcolor": "white",
             "linecolor": "white",
             "minorgridcolor": "white",
             "startlinecolor": "#2a3f5f"
            },
            "baxis": {
             "endlinecolor": "#2a3f5f",
             "gridcolor": "white",
             "linecolor": "white",
             "minorgridcolor": "white",
             "startlinecolor": "#2a3f5f"
            },
            "type": "carpet"
           }
          ],
          "choropleth": [
           {
            "colorbar": {
             "outlinewidth": 0,
             "ticks": ""
            },
            "type": "choropleth"
           }
          ],
          "contour": [
           {
            "colorbar": {
             "outlinewidth": 0,
             "ticks": ""
            },
            "colorscale": [
             [
              0,
              "#0d0887"
             ],
             [
              0.1111111111111111,
              "#46039f"
             ],
             [
              0.2222222222222222,
              "#7201a8"
             ],
             [
              0.3333333333333333,
              "#9c179e"
             ],
             [
              0.4444444444444444,
              "#bd3786"
             ],
             [
              0.5555555555555556,
              "#d8576b"
             ],
             [
              0.6666666666666666,
              "#ed7953"
             ],
             [
              0.7777777777777778,
              "#fb9f3a"
             ],
             [
              0.8888888888888888,
              "#fdca26"
             ],
             [
              1,
              "#f0f921"
             ]
            ],
            "type": "contour"
           }
          ],
          "contourcarpet": [
           {
            "colorbar": {
             "outlinewidth": 0,
             "ticks": ""
            },
            "type": "contourcarpet"
           }
          ],
          "heatmap": [
           {
            "colorbar": {
             "outlinewidth": 0,
             "ticks": ""
            },
            "colorscale": [
             [
              0,
              "#0d0887"
             ],
             [
              0.1111111111111111,
              "#46039f"
             ],
             [
              0.2222222222222222,
              "#7201a8"
             ],
             [
              0.3333333333333333,
              "#9c179e"
             ],
             [
              0.4444444444444444,
              "#bd3786"
             ],
             [
              0.5555555555555556,
              "#d8576b"
             ],
             [
              0.6666666666666666,
              "#ed7953"
             ],
             [
              0.7777777777777778,
              "#fb9f3a"
             ],
             [
              0.8888888888888888,
              "#fdca26"
             ],
             [
              1,
              "#f0f921"
             ]
            ],
            "type": "heatmap"
           }
          ],
          "heatmapgl": [
           {
            "colorbar": {
             "outlinewidth": 0,
             "ticks": ""
            },
            "colorscale": [
             [
              0,
              "#0d0887"
             ],
             [
              0.1111111111111111,
              "#46039f"
             ],
             [
              0.2222222222222222,
              "#7201a8"
             ],
             [
              0.3333333333333333,
              "#9c179e"
             ],
             [
              0.4444444444444444,
              "#bd3786"
             ],
             [
              0.5555555555555556,
              "#d8576b"
             ],
             [
              0.6666666666666666,
              "#ed7953"
             ],
             [
              0.7777777777777778,
              "#fb9f3a"
             ],
             [
              0.8888888888888888,
              "#fdca26"
             ],
             [
              1,
              "#f0f921"
             ]
            ],
            "type": "heatmapgl"
           }
          ],
          "histogram": [
           {
            "marker": {
             "pattern": {
              "fillmode": "overlay",
              "size": 10,
              "solidity": 0.2
             }
            },
            "type": "histogram"
           }
          ],
          "histogram2d": [
           {
            "colorbar": {
             "outlinewidth": 0,
             "ticks": ""
            },
            "colorscale": [
             [
              0,
              "#0d0887"
             ],
             [
              0.1111111111111111,
              "#46039f"
             ],
             [
              0.2222222222222222,
              "#7201a8"
             ],
             [
              0.3333333333333333,
              "#9c179e"
             ],
             [
              0.4444444444444444,
              "#bd3786"
             ],
             [
              0.5555555555555556,
              "#d8576b"
             ],
             [
              0.6666666666666666,
              "#ed7953"
             ],
             [
              0.7777777777777778,
              "#fb9f3a"
             ],
             [
              0.8888888888888888,
              "#fdca26"
             ],
             [
              1,
              "#f0f921"
             ]
            ],
            "type": "histogram2d"
           }
          ],
          "histogram2dcontour": [
           {
            "colorbar": {
             "outlinewidth": 0,
             "ticks": ""
            },
            "colorscale": [
             [
              0,
              "#0d0887"
             ],
             [
              0.1111111111111111,
              "#46039f"
             ],
             [
              0.2222222222222222,
              "#7201a8"
             ],
             [
              0.3333333333333333,
              "#9c179e"
             ],
             [
              0.4444444444444444,
              "#bd3786"
             ],
             [
              0.5555555555555556,
              "#d8576b"
             ],
             [
              0.6666666666666666,
              "#ed7953"
             ],
             [
              0.7777777777777778,
              "#fb9f3a"
             ],
             [
              0.8888888888888888,
              "#fdca26"
             ],
             [
              1,
              "#f0f921"
             ]
            ],
            "type": "histogram2dcontour"
           }
          ],
          "mesh3d": [
           {
            "colorbar": {
             "outlinewidth": 0,
             "ticks": ""
            },
            "type": "mesh3d"
           }
          ],
          "parcoords": [
           {
            "line": {
             "colorbar": {
              "outlinewidth": 0,
              "ticks": ""
             }
            },
            "type": "parcoords"
           }
          ],
          "pie": [
           {
            "automargin": true,
            "type": "pie"
           }
          ],
          "scatter": [
           {
            "fillpattern": {
             "fillmode": "overlay",
             "size": 10,
             "solidity": 0.2
            },
            "type": "scatter"
           }
          ],
          "scatter3d": [
           {
            "line": {
             "colorbar": {
              "outlinewidth": 0,
              "ticks": ""
             }
            },
            "marker": {
             "colorbar": {
              "outlinewidth": 0,
              "ticks": ""
             }
            },
            "type": "scatter3d"
           }
          ],
          "scattercarpet": [
           {
            "marker": {
             "colorbar": {
              "outlinewidth": 0,
              "ticks": ""
             }
            },
            "type": "scattercarpet"
           }
          ],
          "scattergeo": [
           {
            "marker": {
             "colorbar": {
              "outlinewidth": 0,
              "ticks": ""
             }
            },
            "type": "scattergeo"
           }
          ],
          "scattergl": [
           {
            "marker": {
             "colorbar": {
              "outlinewidth": 0,
              "ticks": ""
             }
            },
            "type": "scattergl"
           }
          ],
          "scattermapbox": [
           {
            "marker": {
             "colorbar": {
              "outlinewidth": 0,
              "ticks": ""
             }
            },
            "type": "scattermapbox"
           }
          ],
          "scatterpolar": [
           {
            "marker": {
             "colorbar": {
              "outlinewidth": 0,
              "ticks": ""
             }
            },
            "type": "scatterpolar"
           }
          ],
          "scatterpolargl": [
           {
            "marker": {
             "colorbar": {
              "outlinewidth": 0,
              "ticks": ""
             }
            },
            "type": "scatterpolargl"
           }
          ],
          "scatterternary": [
           {
            "marker": {
             "colorbar": {
              "outlinewidth": 0,
              "ticks": ""
             }
            },
            "type": "scatterternary"
           }
          ],
          "surface": [
           {
            "colorbar": {
             "outlinewidth": 0,
             "ticks": ""
            },
            "colorscale": [
             [
              0,
              "#0d0887"
             ],
             [
              0.1111111111111111,
              "#46039f"
             ],
             [
              0.2222222222222222,
              "#7201a8"
             ],
             [
              0.3333333333333333,
              "#9c179e"
             ],
             [
              0.4444444444444444,
              "#bd3786"
             ],
             [
              0.5555555555555556,
              "#d8576b"
             ],
             [
              0.6666666666666666,
              "#ed7953"
             ],
             [
              0.7777777777777778,
              "#fb9f3a"
             ],
             [
              0.8888888888888888,
              "#fdca26"
             ],
             [
              1,
              "#f0f921"
             ]
            ],
            "type": "surface"
           }
          ],
          "table": [
           {
            "cells": {
             "fill": {
              "color": "#EBF0F8"
             },
             "line": {
              "color": "white"
             }
            },
            "header": {
             "fill": {
              "color": "#C8D4E3"
             },
             "line": {
              "color": "white"
             }
            },
            "type": "table"
           }
          ]
         },
         "layout": {
          "annotationdefaults": {
           "arrowcolor": "#2a3f5f",
           "arrowhead": 0,
           "arrowwidth": 1
          },
          "autotypenumbers": "strict",
          "coloraxis": {
           "colorbar": {
            "outlinewidth": 0,
            "ticks": ""
           }
          },
          "colorscale": {
           "diverging": [
            [
             0,
             "#8e0152"
            ],
            [
             0.1,
             "#c51b7d"
            ],
            [
             0.2,
             "#de77ae"
            ],
            [
             0.3,
             "#f1b6da"
            ],
            [
             0.4,
             "#fde0ef"
            ],
            [
             0.5,
             "#f7f7f7"
            ],
            [
             0.6,
             "#e6f5d0"
            ],
            [
             0.7,
             "#b8e186"
            ],
            [
             0.8,
             "#7fbc41"
            ],
            [
             0.9,
             "#4d9221"
            ],
            [
             1,
             "#276419"
            ]
           ],
           "sequential": [
            [
             0,
             "#0d0887"
            ],
            [
             0.1111111111111111,
             "#46039f"
            ],
            [
             0.2222222222222222,
             "#7201a8"
            ],
            [
             0.3333333333333333,
             "#9c179e"
            ],
            [
             0.4444444444444444,
             "#bd3786"
            ],
            [
             0.5555555555555556,
             "#d8576b"
            ],
            [
             0.6666666666666666,
             "#ed7953"
            ],
            [
             0.7777777777777778,
             "#fb9f3a"
            ],
            [
             0.8888888888888888,
             "#fdca26"
            ],
            [
             1,
             "#f0f921"
            ]
           ],
           "sequentialminus": [
            [
             0,
             "#0d0887"
            ],
            [
             0.1111111111111111,
             "#46039f"
            ],
            [
             0.2222222222222222,
             "#7201a8"
            ],
            [
             0.3333333333333333,
             "#9c179e"
            ],
            [
             0.4444444444444444,
             "#bd3786"
            ],
            [
             0.5555555555555556,
             "#d8576b"
            ],
            [
             0.6666666666666666,
             "#ed7953"
            ],
            [
             0.7777777777777778,
             "#fb9f3a"
            ],
            [
             0.8888888888888888,
             "#fdca26"
            ],
            [
             1,
             "#f0f921"
            ]
           ]
          },
          "colorway": [
           "#636efa",
           "#EF553B",
           "#00cc96",
           "#ab63fa",
           "#FFA15A",
           "#19d3f3",
           "#FF6692",
           "#B6E880",
           "#FF97FF",
           "#FECB52"
          ],
          "font": {
           "color": "#2a3f5f"
          },
          "geo": {
           "bgcolor": "white",
           "lakecolor": "white",
           "landcolor": "#E5ECF6",
           "showlakes": true,
           "showland": true,
           "subunitcolor": "white"
          },
          "hoverlabel": {
           "align": "left"
          },
          "hovermode": "closest",
          "mapbox": {
           "style": "light"
          },
          "paper_bgcolor": "white",
          "plot_bgcolor": "#E5ECF6",
          "polar": {
           "angularaxis": {
            "gridcolor": "white",
            "linecolor": "white",
            "ticks": ""
           },
           "bgcolor": "#E5ECF6",
           "radialaxis": {
            "gridcolor": "white",
            "linecolor": "white",
            "ticks": ""
           }
          },
          "scene": {
           "xaxis": {
            "backgroundcolor": "#E5ECF6",
            "gridcolor": "white",
            "gridwidth": 2,
            "linecolor": "white",
            "showbackground": true,
            "ticks": "",
            "zerolinecolor": "white"
           },
           "yaxis": {
            "backgroundcolor": "#E5ECF6",
            "gridcolor": "white",
            "gridwidth": 2,
            "linecolor": "white",
            "showbackground": true,
            "ticks": "",
            "zerolinecolor": "white"
           },
           "zaxis": {
            "backgroundcolor": "#E5ECF6",
            "gridcolor": "white",
            "gridwidth": 2,
            "linecolor": "white",
            "showbackground": true,
            "ticks": "",
            "zerolinecolor": "white"
           }
          },
          "shapedefaults": {
           "line": {
            "color": "#2a3f5f"
           }
          },
          "ternary": {
           "aaxis": {
            "gridcolor": "white",
            "linecolor": "white",
            "ticks": ""
           },
           "baxis": {
            "gridcolor": "white",
            "linecolor": "white",
            "ticks": ""
           },
           "bgcolor": "#E5ECF6",
           "caxis": {
            "gridcolor": "white",
            "linecolor": "white",
            "ticks": ""
           }
          },
          "title": {
           "x": 0.05
          },
          "xaxis": {
           "automargin": true,
           "gridcolor": "white",
           "linecolor": "white",
           "ticks": "",
           "title": {
            "standoff": 15
           },
           "zerolinecolor": "white",
           "zerolinewidth": 2
          },
          "yaxis": {
           "automargin": true,
           "gridcolor": "white",
           "linecolor": "white",
           "ticks": "",
           "title": {
            "standoff": 15
           },
           "zerolinecolor": "white",
           "zerolinewidth": 2
          }
         }
        },
        "width": 1000,
        "xaxis": {
         "anchor": "y",
         "domain": [
          0,
          1
         ],
         "title": {
          "text": "feature_names"
         }
        },
        "yaxis": {
         "anchor": "x",
         "domain": [
          0,
          1
         ],
         "title": {
          "text": "probability"
         }
        }
       }
      }
     },
     "metadata": {},
     "output_type": "display_data"
    }
   ],
   "source": [
    "fig = px.bar(top_5_pred, x=\"feature_names\", y=\"probability\",\n",
    "                 width=1000, height=1000)\n",
    "fig.update_layout(\n",
    "    font=dict(size=25),\n",
    "    margin=dict(l=20, r=20, t=20, b=20),\n",
    "    paper_bgcolor=\"LightSteelBlue\",\n",
    ")\n",
    "fig.show()"
   ]
  },
  {
   "cell_type": "code",
   "execution_count": 67,
   "metadata": {},
   "outputs": [
    {
     "data": {
      "text/html": [
       "<div>\n",
       "<style scoped>\n",
       "    .dataframe tbody tr th:only-of-type {\n",
       "        vertical-align: middle;\n",
       "    }\n",
       "\n",
       "    .dataframe tbody tr th {\n",
       "        vertical-align: top;\n",
       "    }\n",
       "\n",
       "    .dataframe thead th {\n",
       "        text-align: right;\n",
       "    }\n",
       "</style>\n",
       "<table border=\"1\" class=\"dataframe\">\n",
       "  <thead>\n",
       "    <tr style=\"text-align: right;\">\n",
       "      <th></th>\n",
       "      <th>feature_names</th>\n",
       "      <th>probability</th>\n",
       "    </tr>\n",
       "  </thead>\n",
       "  <tbody>\n",
       "    <tr>\n",
       "      <th>1</th>\n",
       "      <td>30km</td>\n",
       "      <td>1.000000e+00</td>\n",
       "    </tr>\n",
       "    <tr>\n",
       "      <th>5</th>\n",
       "      <td>80km</td>\n",
       "      <td>9.640732e-26</td>\n",
       "    </tr>\n",
       "    <tr>\n",
       "      <th>2</th>\n",
       "      <td>50km</td>\n",
       "      <td>1.263795e-31</td>\n",
       "    </tr>\n",
       "    <tr>\n",
       "      <th>0</th>\n",
       "      <td>20km</td>\n",
       "      <td>4.690100e-34</td>\n",
       "    </tr>\n",
       "    <tr>\n",
       "      <th>4</th>\n",
       "      <td>70km</td>\n",
       "      <td>1.314964e-34</td>\n",
       "    </tr>\n",
       "  </tbody>\n",
       "</table>\n",
       "</div>"
      ],
      "text/plain": [
       "  feature_names   probability\n",
       "1          30km  1.000000e+00\n",
       "5          80km  9.640732e-26\n",
       "2          50km  1.263795e-31\n",
       "0          20km  4.690100e-34\n",
       "4          70km  1.314964e-34"
      ]
     },
     "execution_count": 67,
     "metadata": {},
     "output_type": "execute_result"
    }
   ],
   "source": [
    "top_5_pred"
   ]
  },
  {
   "cell_type": "code",
   "execution_count": 68,
   "metadata": {},
   "outputs": [],
   "source": [
    "########################################################################################################################################################################"
   ]
  },
  {
   "cell_type": "code",
   "execution_count": 69,
   "metadata": {},
   "outputs": [],
   "source": [
    "#LIME"
   ]
  },
  {
   "cell_type": "code",
   "execution_count": 70,
   "metadata": {},
   "outputs": [],
   "source": [
    "global perturbed_images\n",
    "perturbed_images = []\n",
    "global ridge_input_x\n",
    "ridge_input_x = []"
   ]
  },
  {
   "cell_type": "code",
   "execution_count": 71,
   "metadata": {},
   "outputs": [],
   "source": [
    "\"\"\"\n",
    "Contains abstract functionality for learning locally linear sparse model.\n",
    "\"\"\"\n",
    "\n",
    "\n",
    "class LimeBase(object):\n",
    "    \"\"\"Class for learning a locally linear sparse model from perturbed data\"\"\"\n",
    "    def __init__(self,\n",
    "                 kernel_fn,\n",
    "                 verbose=False,\n",
    "                 random_state=None):\n",
    "        \"\"\"Init function\n",
    "\n",
    "        Args:\n",
    "            kernel_fn: function that transforms an array of distances into an\n",
    "                        array of proximity values (floats).\n",
    "            verbose: if true, print local prediction values from linear model.\n",
    "            random_state: an integer or numpy.RandomState that will be used to\n",
    "                generate random numbers. If None, the random state will be\n",
    "                initialized using the internal numpy seed.\n",
    "        \"\"\"\n",
    "        self.kernel_fn = kernel_fn\n",
    "        self.verbose = verbose\n",
    "        self.random_state = check_random_state(random_state)\n",
    "\n",
    "    @staticmethod\n",
    "    def generate_lars_path(weighted_data, weighted_labels):\n",
    "        \"\"\"Generates the lars path for weighted data.\n",
    "\n",
    "        Args:\n",
    "            weighted_data: data that has been weighted by kernel\n",
    "            weighted_label: labels, weighted by kernel\n",
    "\n",
    "        Returns:\n",
    "            (alphas, coefs), both are arrays corresponding to the\n",
    "            regularization parameter and coefficients, respectively\n",
    "        \"\"\"\n",
    "        x_vector = weighted_data\n",
    "        alphas, _, coefs = lars_path(x_vector,\n",
    "                                     weighted_labels,\n",
    "                                     method='lasso',\n",
    "                                     verbose=False)\n",
    "        return alphas, coefs\n",
    "\n",
    "    def forward_selection(self, data, labels, weights, num_features):\n",
    "        \"\"\"Iteratively adds features to the model\"\"\"\n",
    "        clf = Ridge(alpha=0, fit_intercept=True, random_state=self.random_state)\n",
    "        used_features = []\n",
    "        for _ in range(min(num_features, data.shape[1])):\n",
    "            max_ = -100000000\n",
    "            best = 0\n",
    "            for feature in range(data.shape[1]):\n",
    "                if feature in used_features:\n",
    "                    continue\n",
    "                clf.fit(data[:, used_features + [feature]], labels,\n",
    "                        sample_weight=weights)\n",
    "                score = clf.score(data[:, used_features + [feature]],\n",
    "                                  labels,\n",
    "                                  sample_weight=weights)\n",
    "                if score > max_:\n",
    "                    best = feature\n",
    "                    max_ = score\n",
    "            used_features.append(best)\n",
    "        return np.array(used_features)\n",
    "\n",
    "    def feature_selection(self, data, labels, weights, num_features, method):\n",
    "        \"\"\"Selects features for the model. see explain_instance_with_data to\n",
    "           understand the parameters.\"\"\"\n",
    "        if method == 'none':\n",
    "            return np.array(range(data.shape[1]))\n",
    "        elif method == 'forward_selection':\n",
    "            return self.forward_selection(data, labels, weights, num_features)\n",
    "        elif method == 'highest_weights':\n",
    "            clf = Ridge(alpha=0.01, fit_intercept=True,\n",
    "                        random_state=self.random_state)\n",
    "            clf.fit(data, labels, sample_weight=weights)\n",
    "\n",
    "            coef = clf.coef_\n",
    "            if sp.sparse.issparse(data):\n",
    "                coef = sp.sparse.csr_matrix(clf.coef_)\n",
    "                weighted_data = coef.multiply(data[0])\n",
    "                # Note: most efficient to slice the data before reversing\n",
    "                sdata = len(weighted_data.data)\n",
    "                argsort_data = np.abs(weighted_data.data).argsort()\n",
    "                # Edge case where data is more sparse than requested number of feature importances\n",
    "                # In that case, we just pad with zero-valued features\n",
    "                if sdata < num_features:\n",
    "                    nnz_indexes = argsort_data[::-1]\n",
    "                    indices = weighted_data.indices[nnz_indexes]\n",
    "                    num_to_pad = num_features - sdata\n",
    "                    indices = np.concatenate((indices, np.zeros(num_to_pad, dtype=indices.dtype)))\n",
    "                    indices_set = set(indices)\n",
    "                    pad_counter = 0\n",
    "                    for i in range(data.shape[1]):\n",
    "                        if i not in indices_set:\n",
    "                            indices[pad_counter + sdata] = i\n",
    "                            pad_counter += 1\n",
    "                            if pad_counter >= num_to_pad:\n",
    "                                break\n",
    "                else:\n",
    "                    nnz_indexes = argsort_data[sdata - num_features:sdata][::-1]\n",
    "                    indices = weighted_data.indices[nnz_indexes]\n",
    "                return indices\n",
    "            else:\n",
    "                weighted_data = coef * data[0]\n",
    "                feature_weights = sorted(\n",
    "                    zip(range(data.shape[1]), weighted_data),\n",
    "                    key=lambda x: np.abs(x[1]),\n",
    "                    reverse=True)\n",
    "                return np.array([x[0] for x in feature_weights[:num_features]])\n",
    "        elif method == 'lasso_path':\n",
    "            weighted_data = ((data - np.average(data, axis=0, weights=weights))\n",
    "                             * np.sqrt(weights[:, np.newaxis]))\n",
    "            weighted_labels = ((labels - np.average(labels, weights=weights))\n",
    "                               * np.sqrt(weights))\n",
    "            nonzero = range(weighted_data.shape[1])\n",
    "            _, coefs = self.generate_lars_path(weighted_data,\n",
    "                                               weighted_labels)\n",
    "            for i in range(len(coefs.T) - 1, 0, -1):\n",
    "                nonzero = coefs.T[i].nonzero()[0]\n",
    "                if len(nonzero) <= num_features:\n",
    "                    break\n",
    "            used_features = nonzero\n",
    "            return used_features\n",
    "        elif method == 'auto':\n",
    "            if num_features <= 6:\n",
    "                n_method = 'forward_selection'\n",
    "            else:\n",
    "                n_method = 'highest_weights'\n",
    "            return self.feature_selection(data, labels, weights,\n",
    "                                          num_features, n_method)\n",
    "\n",
    "    def explain_instance_with_data(self,\n",
    "                                   neighborhood_data,\n",
    "                                   neighborhood_labels,\n",
    "                                   distances,\n",
    "                                   label,\n",
    "                                   num_features,\n",
    "                                   feature_selection='auto',\n",
    "                                   model_regressor=None):\n",
    "        \"\"\"Takes perturbed data, labels and distances, returns explanation.\n",
    "\n",
    "        Args:\n",
    "            neighborhood_data: perturbed data, 2d array. first element is\n",
    "                               assumed to be the original data point.\n",
    "            neighborhood_labels: corresponding perturbed labels. should have as\n",
    "                                 many columns as the number of possible labels.\n",
    "            distances: distances to original data point.\n",
    "            label: label for which we want an explanation\n",
    "            num_features: maximum number of features in explanation\n",
    "            feature_selection: how to select num_features. options are:\n",
    "                'forward_selection': iteratively add features to the model.\n",
    "                    This is costly when num_features is high\n",
    "                'highest_weights': selects the features that have the highest\n",
    "                    product of absolute weight * original data point when\n",
    "                    learning with all the features\n",
    "                'lasso_path': chooses features based on the lasso\n",
    "                    regularization path\n",
    "                'none': uses all features, ignores num_features\n",
    "                'auto': uses forward_selection if num_features <= 6, and\n",
    "                    'highest_weights' otherwise.\n",
    "            model_regressor: sklearn regressor to use in explanation.\n",
    "                Defaults to Ridge regression if None. Must have\n",
    "                model_regressor.coef_ and 'sample_weight' as a parameter\n",
    "                to model_regressor.fit()\n",
    "\n",
    "        Returns:\n",
    "            (intercept, exp, score, local_pred):\n",
    "            intercept is a float.\n",
    "            exp is a sorted list of tuples, where each tuple (x,y) corresponds\n",
    "            to the feature id (x) and the local weight (y). The list is sorted\n",
    "            by decreasing absolute value of y.\n",
    "            score is the R^2 value of the returned explanation\n",
    "            local_pred is the prediction of the explanation model on the original instance\n",
    "        \"\"\"\n",
    "        weights = self.kernel_fn(distances)\n",
    "        labels_column = neighborhood_labels[:, label]\n",
    "        used_features = self.feature_selection(neighborhood_data,\n",
    "                                               labels_column,\n",
    "                                               weights,\n",
    "                                               num_features,\n",
    "                                               feature_selection)\n",
    "        if model_regressor is None:\n",
    "            model_regressor = Ridge(alpha=1, fit_intercept=True,\n",
    "                                    random_state=self.random_state)\n",
    "        easy_model = model_regressor\n",
    "        easy_model.fit(neighborhood_data[:, used_features],\n",
    "                       labels_column, sample_weight=weights)\n",
    "        prediction_score = easy_model.score(\n",
    "            neighborhood_data[:, used_features],\n",
    "            labels_column, sample_weight=weights)\n",
    "\n",
    "        local_pred = easy_model.predict(neighborhood_data[0, used_features].reshape(1, -1))\n",
    "\n",
    "        if self.verbose:\n",
    "            print('Intercept', easy_model.intercept_)\n",
    "            print('Prediction_local', local_pred,)\n",
    "            print('Right:', neighborhood_labels[0, label])\n",
    "        print(\"Sectors used: \", used_features)\n",
    "        print(\"Used sector: \", used_features[0])\n",
    "        print(\"Coefficient from Ridge or other regression for this sector: \", easy_model.coef_[0])\n",
    "        return (easy_model.intercept_,\n",
    "                sorted(zip(used_features, easy_model.coef_),\n",
    "                       key=lambda x: np.abs(x[1]), reverse=True), # local_exp\n",
    "                prediction_score, local_pred)"
   ]
  },
  {
   "cell_type": "code",
   "execution_count": 72,
   "metadata": {},
   "outputs": [],
   "source": [
    "class BaseWrapper(object):\n",
    "    \"\"\"Base class for LIME Scikit-Image wrapper\n",
    "\n",
    "\n",
    "    Args:\n",
    "        target_fn: callable function or class instance\n",
    "        target_params: dict, parameters to pass to the target_fn\n",
    "\n",
    "\n",
    "    'target_params' takes parameters required to instanciate the\n",
    "        desired Scikit-Image class/model\n",
    "    \"\"\"\n",
    "\n",
    "    def __init__(self, target_fn=None, **target_params):\n",
    "        self.target_fn = target_fn\n",
    "        self.target_params = target_params\n",
    "\n",
    "    def _check_params(self, parameters):\n",
    "        \"\"\"Checks for mistakes in 'parameters'\n",
    "\n",
    "        Args :\n",
    "            parameters: dict, parameters to be checked\n",
    "\n",
    "        Raises :\n",
    "            ValueError: if any parameter is not a valid argument for the target function\n",
    "                or the target function is not defined\n",
    "            TypeError: if argument parameters is not iterable\n",
    "         \"\"\"\n",
    "        a_valid_fn = []\n",
    "        if self.target_fn is None:\n",
    "            if callable(self):\n",
    "                a_valid_fn.append(self.__call__)\n",
    "            else:\n",
    "                raise TypeError('invalid argument: tested object is not callable,\\\n",
    "                 please provide a valid target_fn')\n",
    "        elif isinstance(self.target_fn, types.FunctionType) \\\n",
    "                or isinstance(self.target_fn, types.MethodType):\n",
    "            a_valid_fn.append(self.target_fn)\n",
    "        else:\n",
    "            a_valid_fn.append(self.target_fn.__call__)\n",
    "\n",
    "        if not isinstance(parameters, str):\n",
    "            for p in parameters:\n",
    "                for fn in a_valid_fn:\n",
    "                    if has_arg(fn, p):\n",
    "                        pass\n",
    "                    else:\n",
    "                        raise ValueError('{} is not a valid parameter'.format(p))\n",
    "        else:\n",
    "            raise TypeError('invalid argument: list or dictionnary expected')\n",
    "\n",
    "    def set_params(self, **params):\n",
    "        \"\"\"Sets the parameters of this estimator.\n",
    "        Args:\n",
    "            **params: Dictionary of parameter names mapped to their values.\n",
    "\n",
    "        Raises :\n",
    "            ValueError: if any parameter is not a valid argument\n",
    "                for the target function\n",
    "        \"\"\"\n",
    "        self._check_params(params)\n",
    "        self.target_params = params\n",
    "\n",
    "    def filter_params(self, fn, override=None):\n",
    "        \"\"\"Filters `target_params` and return those in `fn`'s arguments.\n",
    "        Args:\n",
    "            fn : arbitrary function\n",
    "            override: dict, values to override target_params\n",
    "        Returns:\n",
    "            result : dict, dictionary containing variables\n",
    "            in both target_params and fn's arguments.\n",
    "        \"\"\"\n",
    "        override = override or {}\n",
    "        result = {}\n",
    "        for name, value in self.target_params.items():\n",
    "            if has_arg(fn, name):\n",
    "                result.update({name: value})\n",
    "        result.update(override)\n",
    "        return result\n",
    "\n",
    "\n",
    "class SegmentationAlgorithm(BaseWrapper):\n",
    "    \"\"\" Define the image segmentation function based on Scikit-Image\n",
    "            implementation and a set of provided parameters\n",
    "\n",
    "        Args:\n",
    "            algo_type: string, segmentation algorithm among the following:\n",
    "                'quickshift', 'slic', 'felzenszwalb'\n",
    "            target_params: dict, algorithm parameters (valid model paramters\n",
    "                as define in Scikit-Image documentation)\n",
    "    \"\"\"\n",
    "\n",
    "    def __init__(self, algo_type, **target_params):\n",
    "        self.algo_type = algo_type # we don't use these algorithms (quickshift, felzenszwalb)\n",
    "        # if (self.algo_type == 'quickshift'):\n",
    "        #     BaseWrapper.__init__(self, quickshift, **target_params)\n",
    "        #     kwargs = self.filter_params(quickshift)\n",
    "        #     self.set_params(**kwargs)\n",
    "        # elif (self.algo_type == 'felzenszwalb'):\n",
    "        #     BaseWrapper.__init__(self, felzenszwalb, **target_params)\n",
    "        #     kwargs = self.filter_params(felzenszwalb)\n",
    "        #     self.set_params(**kwargs)\n",
    "        # elif (self.algo_type == 'slic'):\n",
    "        BaseWrapper.__init__(self, slic, **target_params) # we use slic\n",
    "        kwargs = self.filter_params(slic)\n",
    "        self.set_params(**kwargs)\n",
    "\n",
    "    def __call__(self, *args):\n",
    "        return self.target_fn(args[0], **self.target_params)"
   ]
  },
  {
   "cell_type": "code",
   "execution_count": 73,
   "metadata": {},
   "outputs": [],
   "source": [
    "class ImageExplanation(object):\n",
    "    def __init__(self, image, segments):\n",
    "        \"\"\"Init function.\n",
    "\n",
    "        Args:\n",
    "            image: 3d numpy array\n",
    "            segments: 2d numpy array, with the output from skimage.segmentation\n",
    "        \"\"\"\n",
    "        self.image = image\n",
    "        self.segments = segments\n",
    "        self.intercept = {}\n",
    "        self.local_exp = {}\n",
    "        self.local_pred = {}\n",
    "        self.score = {}\n",
    "\n",
    "    def get_image_and_mask(self, label, positive_only=True, negative_only=False, hide_rest=False,\n",
    "                           num_features=5, min_weight=0.):\n",
    "        \"\"\"Init function.\n",
    "\n",
    "        Args:\n",
    "            label: label to explain\n",
    "            positive_only: if True, only take superpixels that positively contribute to\n",
    "                the prediction of the label.\n",
    "            negative_only: if True, only take superpixels that negatively contribute to\n",
    "                the prediction of the label. If false, and so is positive_only, then both\n",
    "                negativey and positively contributions will be taken.\n",
    "                Both can't be True at the same time\n",
    "            hide_rest: if True, make the non-explanation part of the return\n",
    "                image gray\n",
    "            num_features: number of superpixels to include in explanation\n",
    "            min_weight: minimum weight of the superpixels to include in explanation\n",
    "\n",
    "        Returns:\n",
    "            (image, mask), where image is a 3d numpy array and mask is a 2d\n",
    "            numpy array that can be used with\n",
    "            skimage.segmentation.mark_boundaries\n",
    "        \"\"\"\n",
    "        if label not in self.local_exp:\n",
    "            raise KeyError('Label not in explanation')\n",
    "        if positive_only & negative_only:\n",
    "            raise ValueError(\"Positive_only and negative_only cannot be true at the same time.\")\n",
    "        segments = self.segments\n",
    "        image = self.image\n",
    "        exp = self.local_exp[label]\n",
    "        mask = np.zeros(segments.shape, segments.dtype)\n",
    "        if hide_rest:\n",
    "            temp = np.zeros(self.image.shape)\n",
    "        else:\n",
    "            temp = self.image.copy()\n",
    "        if positive_only:\n",
    "            fs = [x[0] for x in exp\n",
    "                  if x[1] > 0 and x[1] > min_weight][:num_features]\n",
    "        if negative_only:\n",
    "            fs = [x[0] for x in exp\n",
    "                  if x[1] < 0 and abs(x[1]) > min_weight][:num_features]\n",
    "            \n",
    "        if positive_only or negative_only:\n",
    "            for f in fs:\n",
    "                temp[segments == f] = image[segments == f].copy()\n",
    "                mask[segments == f] = 1\n",
    "            return temp, mask\n",
    "        else:\n",
    "            mask1 = mask.copy()\n",
    "            for f, w in exp[:num_features]:\n",
    "                if np.abs(w) < min_weight:\n",
    "                    continue\n",
    "                c = 0 if w < 0 else 1\n",
    "                mask[segments == f] = -1 if w < 0 else 1\n",
    "                temp[segments == f] = image[segments == f].copy()\n",
    "                temp[segments == f, c] = np.max(image)\n",
    "\n",
    "            return temp, mask\n",
    "\n",
    "\n",
    "class LimeImageExplainer(object):\n",
    "    \"\"\"Explains predictions on Image (i.e. matrix) data.\n",
    "    For numerical features, perturb them by sampling from a Normal(0,1) and\n",
    "    doing the inverse operation of mean-centering and scaling, according to the\n",
    "    means and stds in the training data. For categorical features, perturb by\n",
    "    sampling according to the training distribution, and making a binary\n",
    "    feature that is 1 when the value is the same as the instance being\n",
    "    explained.\"\"\"\n",
    "\n",
    "    def __init__(self, kernel_width=.25, kernel=None, verbose=False,\n",
    "                 feature_selection='auto', random_state=None):\n",
    "        \"\"\"Init function.\n",
    "\n",
    "        Args:\n",
    "            kernel_width: kernel width for the exponential kernel.\n",
    "            If None, defaults to sqrt(number of columns) * 0.75.\n",
    "            kernel: similarity kernel that takes euclidean distances and kernel\n",
    "                width as input and outputs weights in (0,1). If None, defaults to\n",
    "                an exponential kernel.\n",
    "            verbose: if true, print local prediction values from linear model\n",
    "            feature_selection: feature selection method. can be\n",
    "                'forward_selection', 'lasso_path', 'none' or 'auto'.\n",
    "                See function 'explain_instance_with_data' in lime_base.py for\n",
    "                details on what each of the options does.\n",
    "            random_state: an integer or numpy.RandomState that will be used to\n",
    "                generate random numbers. If None, the random state will be\n",
    "                initialized using the internal numpy seed.\n",
    "        \"\"\"\n",
    "        kernel_width = float(kernel_width)\n",
    "\n",
    "        if kernel is None:\n",
    "            def kernel(d, kernel_width):\n",
    "                return np.sqrt(np.exp(-(d ** 2) / kernel_width ** 2))\n",
    "\n",
    "        kernel_fn = partial(kernel, kernel_width=kernel_width)\n",
    "\n",
    "        self.random_state = check_random_state(random_state)\n",
    "        self.feature_selection = feature_selection\n",
    "        self.base = LimeBase(kernel_fn, verbose, random_state=self.random_state)\n",
    "\n",
    "    def explain_instance(self, image, classifier_fn, labels=(1,),\n",
    "                         hide_color=None,\n",
    "                         top_labels=5, num_features=100000, num_samples=1000,\n",
    "                         batch_size=10,\n",
    "                         segmentation_fn=None,\n",
    "                         distance_metric='cosine',\n",
    "                         model_regressor=None,\n",
    "                         random_seed=None,\n",
    "                         progress_bar=True):\n",
    "        \"\"\"Generates explanations for a prediction.\n",
    "\n",
    "        First, we generate neighborhood data by randomly perturbing features\n",
    "        from the instance (see __data_inverse). We then learn locally weighted\n",
    "        linear models on this neighborhood data to explain each of the classes\n",
    "        in an interpretable way (see lime_base.py).\n",
    "\n",
    "        Args:\n",
    "            image: 3 dimension RGB image. If this is only two dimensional,\n",
    "                we will assume it's a grayscale image and call gray2rgb.\n",
    "            classifier_fn: classifier prediction probability function, which\n",
    "                takes a numpy array and outputs prediction probabilities.  For\n",
    "                ScikitClassifiers , this is classifier.predict_proba.\n",
    "            labels: iterable with labels to be explained.\n",
    "            hide_color: If not None, will hide superpixels with this color.\n",
    "                Otherwise, use the mean pixel color of the image.\n",
    "            top_labels: if not None, ignore labels and produce explanations for\n",
    "                the K labels with highest prediction probabilities, where K is\n",
    "                this parameter.\n",
    "            num_features: maximum number of features present in explanation\n",
    "            num_samples: size of the neighborhood to learn the linear model\n",
    "            batch_size: batch size for model predictions\n",
    "            distance_metric: the distance metric to use for weights.\n",
    "            model_regressor: sklearn regressor to use in explanation. Defaults\n",
    "            to Ridge regression in LimeBase. Must have model_regressor.coef_\n",
    "            and 'sample_weight' as a parameter to model_regressor.fit()\n",
    "            segmentation_fn: SegmentationAlgorithm, wrapped skimage\n",
    "            segmentation function\n",
    "            random_seed: integer used as random seed for the segmentation\n",
    "                algorithm. If None, a random integer, between 0 and 1000,\n",
    "                will be generated using the internal random number generator.\n",
    "            progress_bar: if True, show tqdm progress bar.\n",
    "\n",
    "        Returns:\n",
    "            An ImageExplanation object (see lime_image.py) with the corresponding\n",
    "            explanations.\n",
    "        \"\"\"\n",
    "        if len(image.shape) == 2:\n",
    "            image = gray2rgb(image)\n",
    "        if random_seed is None:\n",
    "            random_seed = self.random_state.randint(0, high=1000)\n",
    "\n",
    "        if segmentation_fn is None:\n",
    "            segmentation_fn = SegmentationAlgorithm(\"slic\", n_segments=30, compactness=15, sigma=1)\n",
    "\n",
    "        segments = segmentation_fn(image) # now we detect segments from the initial image\n",
    "\n",
    "        fudged_image = image.copy() \n",
    "        if hide_color is None: # if nothing is specified in explain_instance, then we keep the superpixels\n",
    "            for x in np.unique(segments):\n",
    "                fudged_image[segments == x] = (\n",
    "                    np.mean(image[segments == x][:, 0]),\n",
    "                    np.mean(image[segments == x][:, 1]),\n",
    "                    np.mean(image[segments == x][:, 2])) \n",
    "        else:\n",
    "            fudged_image[:] = hide_color # fill with some color (0 - DARK, 1 - LIGHT)\n",
    "        top = labels\n",
    "\n",
    "        data, labels = self.data_labels(image, fudged_image, segments,\n",
    "                                        classifier_fn, num_samples,\n",
    "                                        batch_size=batch_size,\n",
    "                                        progress_bar=progress_bar) # here we create similar images and predict theirs classes using the CNN model\n",
    "        # we assess how different the original picture is from similar ones\n",
    "        distances = sklearn.metrics.pairwise_distances(\n",
    "            data,\n",
    "            data[0].reshape(1, -1),\n",
    "            metric=distance_metric\n",
    "        ).ravel()\n",
    "\n",
    "        print(\"Raw distinces: \", sklearn.metrics.pairwise_distances(\n",
    "            data,\n",
    "            data[0].reshape(1, -1),\n",
    "            metric=distance_metric\n",
    "        ))\n",
    "        print(\"Ravel: \", distances)\n",
    "\n",
    "        ret_exp = ImageExplanation(image, segments)\n",
    "\n",
    "        if top_labels:\n",
    "            top = np.argsort(labels[0])[-top_labels:]\n",
    "            ret_exp.top_labels = list(top)\n",
    "            ret_exp.top_labels.reverse()\n",
    "        # we iterate over classes: we use our model (for example, ridge regression) to predict a specific class.\n",
    "        for label in top:\n",
    "            ridge_input_x.append(data)\n",
    "            (ret_exp.intercept[label],\n",
    "             ret_exp.local_exp[label],\n",
    "             ret_exp.score[label],\n",
    "             ret_exp.local_pred[label]) = self.base.explain_instance_with_data(\n",
    "                data, labels, distances, label, num_features,\n",
    "                model_regressor=model_regressor,\n",
    "                feature_selection=self.feature_selection)\n",
    "        # for each class it returns:  \n",
    "        return ret_exp\n",
    "\n",
    "    def data_labels(self,\n",
    "                    image,\n",
    "                    fudged_image,\n",
    "                    segments,\n",
    "                    classifier_fn,\n",
    "                    num_samples,\n",
    "                    batch_size=10,\n",
    "                    progress_bar=True):\n",
    "        \"\"\"Generates images and predictions in the neighborhood of this image.\n",
    "\n",
    "        Args:\n",
    "            image: 3d numpy array, the image\n",
    "            fudged_image: 3d numpy array, image to replace original image when\n",
    "                superpixel is turned off\n",
    "            segments: segmentation of the image\n",
    "            classifier_fn: function that takes a list of images and returns a\n",
    "                matrix of prediction probabilities\n",
    "            num_samples: size of the neighborhood to learn the linear model\n",
    "            batch_size: classifier_fn will be called on batches of this size.\n",
    "            progress_bar: if True, show tqdm progress bar.\n",
    "\n",
    "        Returns:\n",
    "            A tuple (data, labels), where:\n",
    "                data: dense num_samples * num_superpixels\n",
    "                labels: prediction probabilities matrix\n",
    "        \"\"\"\n",
    "        n_features = np.unique(segments).shape[0]\n",
    "        data = self.random_state.randint(0, 2, num_samples * n_features)\\\n",
    "            .reshape((num_samples, n_features)) # perturbated data\n",
    "        \n",
    "        labels = []\n",
    "        data[0, :] = 1 \n",
    "        imgs = []\n",
    "        rows = tqdm(data) if progress_bar else data\n",
    "        for row in rows:\n",
    "            temp = copy.deepcopy(image)\n",
    "            plt.imshow(temp)\n",
    "            zeros = np.where(row == 0)[0]\n",
    "            mask = np.zeros(segments.shape).astype(bool)\n",
    "            for z in zeros:\n",
    "                mask[segments == z] = True\n",
    "            temp[mask] = fudged_image[mask]\n",
    "            imgs.append(temp)\n",
    "            perturbed_images.append(temp)\n",
    "            if len(imgs) == batch_size:\n",
    "                preds = classifier_fn(np.array(imgs))\n",
    "                labels.extend(preds)\n",
    "                imgs = []\n",
    "        if len(imgs) > 0:\n",
    "            preds = classifier_fn(np.array(imgs))\n",
    "            labels.extend(preds)\n",
    "        return data, np.array(labels)"
   ]
  },
  {
   "cell_type": "code",
   "execution_count": 74,
   "metadata": {},
   "outputs": [],
   "source": [
    "file = \"...Test/00001.png\"\n",
    "img = image_keras.load_img(file, target_size=(50, 50))\n",
    "img_orig = image_keras.img_to_array(img) / 255"
   ]
  },
  {
   "cell_type": "code",
   "execution_count": 75,
   "metadata": {},
   "outputs": [
    {
     "data": {
      "text/plain": [
       "<matplotlib.image.AxesImage at 0x2fd4620d0>"
      ]
     },
     "execution_count": 75,
     "metadata": {},
     "output_type": "execute_result"
    },
    {
     "data": {
      "image/png": "[encoded data removed]",
      "text/plain": [
       "<Figure size 640x480 with 1 Axes>"
      ]
     },
     "metadata": {},
     "output_type": "display_data"
    }
   ],
   "source": [
    "img=img_orig\n",
    "segmentation_fn = SegmentationAlgorithm(\"slic\", n_segments=30, compactness=15, sigma=1)\n",
    "label=segmentation_fn(img)\n",
    "\n",
    "def mean_image(image,label):\n",
    "    im_rp=image.reshape((image.shape[0]*image.shape[1],image.shape[2]))\n",
    "    sli_1d=np.reshape(label,-1)    \n",
    "    uni=np.unique(sli_1d)\n",
    "    uu=np.zeros(im_rp.shape)\n",
    "    for i in uni:\n",
    "        loc=np.where(sli_1d==i)[0]\n",
    "        mm=np.mean(im_rp[loc,:],axis=0)\n",
    "        uu[loc,:]=mm\n",
    "    oo=np.reshape(uu,[image.shape[0],image.shape[1],image.shape[2]])\n",
    "    return oo\n",
    "    cv.imshow('img',oo)\n",
    "output=mean_image(img,label) # displays the output image.\n",
    "plt.imshow(output)"
   ]
  },
  {
   "cell_type": "code",
   "execution_count": 76,
   "metadata": {},
   "outputs": [
    {
     "data": {
      "text/plain": [
       "<__main__.ImageExplanation at 0x2fd4e3710>"
      ]
     },
     "execution_count": 76,
     "metadata": {},
     "output_type": "execute_result"
    }
   ],
   "source": [
    "ImageExplanation(file, img_orig)"
   ]
  },
  {
   "cell_type": "code",
   "execution_count": 77,
   "metadata": {},
   "outputs": [],
   "source": [
    "explainer = LimeImageExplainer()"
   ]
  },
  {
   "cell_type": "code",
   "execution_count": 78,
   "metadata": {},
   "outputs": [],
   "source": [
    "mymodel = load_model('model.hdf5')"
   ]
  },
  {
   "cell_type": "code",
   "execution_count": 79,
   "metadata": {},
   "outputs": [
    {
     "data": {
      "application/vnd.jupyter.widget-view+json": {
       "model_id": "7ee67c1207e14097b1a5e52c6925af99",
       "version_major": 2,
       "version_minor": 0
      },
      "text/plain": [
       "  0%|          | 0/100 [00:00<?, ?it/s]"
      ]
     },
     "metadata": {},
     "output_type": "display_data"
    },
    {
     "name": "stdout",
     "output_type": "stream",
     "text": [
      "1/1 [==============================] - 0s 42ms/step\n",
      "1/1 [==============================] - 0s 14ms/step\n",
      "1/1 [==============================] - 0s 14ms/step\n",
      "1/1 [==============================] - 0s 14ms/step\n",
      "1/1 [==============================] - 0s 14ms/step\n",
      "1/1 [==============================] - 0s 14ms/step\n",
      "1/1 [==============================] - 0s 13ms/step\n",
      "1/1 [==============================] - 0s 13ms/step\n",
      "1/1 [==============================] - 0s 13ms/step\n",
      "1/1 [==============================] - 0s 14ms/step\n",
      "Raw distinces:  [[0.        ]\n",
      " [0.23911409]\n",
      " [0.3117528 ]\n",
      " [0.3117528 ]\n",
      " [0.27452375]\n",
      " [0.23911409]\n",
      " [0.3117528 ]\n",
      " [0.20528059]\n",
      " [0.37171914]\n",
      " [0.25660806]\n",
      " [0.35111432]\n",
      " [0.29289322]\n",
      " [0.27452375]\n",
      " [0.33114395]\n",
      " [0.25660806]\n",
      " [0.43804851]\n",
      " [0.35111432]\n",
      " [0.22201339]\n",
      " [0.29289322]\n",
      " [0.27452375]\n",
      " [0.29289322]\n",
      " [0.37171914]\n",
      " [0.27452375]\n",
      " [0.35111432]\n",
      " [0.27452375]\n",
      " [0.41510235]\n",
      " [0.22201339]\n",
      " [0.37171914]\n",
      " [0.37171914]\n",
      " [0.22201339]\n",
      " [0.35111432]\n",
      " [0.3117528 ]\n",
      " [0.33114395]\n",
      " [0.37171914]\n",
      " [0.27452375]\n",
      " [0.33114395]\n",
      " [0.27452375]\n",
      " [0.25660806]\n",
      " [0.3117528 ]\n",
      " [0.3117528 ]\n",
      " [0.37171914]\n",
      " [0.35111432]\n",
      " [0.3117528 ]\n",
      " [0.3117528 ]\n",
      " [0.27452375]\n",
      " [0.37171914]\n",
      " [0.27452375]\n",
      " [0.33114395]\n",
      " [0.29289322]\n",
      " [0.23911409]\n",
      " [0.23911409]\n",
      " [0.29289322]\n",
      " [0.18889289]\n",
      " [0.3117528 ]\n",
      " [0.3117528 ]\n",
      " [0.23911409]\n",
      " [0.27452375]\n",
      " [0.18889289]\n",
      " [0.15707277]\n",
      " [0.33114395]\n",
      " [0.25660806]\n",
      " [0.41510235]\n",
      " [0.35111432]\n",
      " [0.18889289]\n",
      " [0.33114395]\n",
      " [0.39302302]\n",
      " [0.3117528 ]\n",
      " [0.27452375]\n",
      " [0.25660806]\n",
      " [0.25660806]\n",
      " [0.27452375]\n",
      " [0.27452375]\n",
      " [0.3117528 ]\n",
      " [0.25660806]\n",
      " [0.39302302]\n",
      " [0.29289322]\n",
      " [0.33114395]\n",
      " [0.27452375]\n",
      " [0.35111432]\n",
      " [0.29289322]\n",
      " [0.25660806]\n",
      " [0.33114395]\n",
      " [0.27452375]\n",
      " [0.35111432]\n",
      " [0.33114395]\n",
      " [0.33114395]\n",
      " [0.33114395]\n",
      " [0.29289322]\n",
      " [0.33114395]\n",
      " [0.3117528 ]\n",
      " [0.23911409]\n",
      " [0.29289322]\n",
      " [0.29289322]\n",
      " [0.29289322]\n",
      " [0.3117528 ]\n",
      " [0.23911409]\n",
      " [0.39302302]\n",
      " [0.25660806]\n",
      " [0.27452375]\n",
      " [0.27452375]]\n",
      "Ravel:  [0.         0.23911409 0.3117528  0.3117528  0.27452375 0.23911409\n",
      " 0.3117528  0.20528059 0.37171914 0.25660806 0.35111432 0.29289322\n",
      " 0.27452375 0.33114395 0.25660806 0.43804851 0.35111432 0.22201339\n",
      " 0.29289322 0.27452375 0.29289322 0.37171914 0.27452375 0.35111432\n",
      " 0.27452375 0.41510235 0.22201339 0.37171914 0.37171914 0.22201339\n",
      " 0.35111432 0.3117528  0.33114395 0.37171914 0.27452375 0.33114395\n",
      " 0.27452375 0.25660806 0.3117528  0.3117528  0.37171914 0.35111432\n",
      " 0.3117528  0.3117528  0.27452375 0.37171914 0.27452375 0.33114395\n",
      " 0.29289322 0.23911409 0.23911409 0.29289322 0.18889289 0.3117528\n",
      " 0.3117528  0.23911409 0.27452375 0.18889289 0.15707277 0.33114395\n",
      " 0.25660806 0.41510235 0.35111432 0.18889289 0.33114395 0.39302302\n",
      " 0.3117528  0.27452375 0.25660806 0.25660806 0.27452375 0.27452375\n",
      " 0.3117528  0.25660806 0.39302302 0.29289322 0.33114395 0.27452375\n",
      " 0.35111432 0.29289322 0.25660806 0.33114395 0.27452375 0.35111432\n",
      " 0.33114395 0.33114395 0.33114395 0.29289322 0.33114395 0.3117528\n",
      " 0.23911409 0.29289322 0.29289322 0.29289322 0.3117528  0.23911409\n",
      " 0.39302302 0.25660806 0.27452375 0.27452375]\n",
      "Sectors used:  [ 9 27 31 25 21 18 35 26 11  2 24 22 33  3  7  6 36 17 20  8 15 14  0 37\n",
      " 13 29  5  4 28 34 12 10  1 32 16 19 30 23]\n",
      "Used sector:  9\n",
      "Coefficient from Ridge or other regression for this sector:  0.0019806549238620074\n",
      "Sectors used:  [24 19 12 11 13 28 21 30 25  1 15  0  2 17 22 33 16 31 29 14  3 34 20  9\n",
      "  4  5 26 10 35  8 18  7 32 23 37 27  6 36]\n",
      "Used sector:  24\n",
      "Coefficient from Ridge or other regression for this sector:  -0.0003104733684973411\n",
      "Sectors used:  [ 8 12  2 15  5 34  6 30 23 31  4  9 28 25 33 32  1  7 18 19 16 11 22 27\n",
      " 14 35 21 26 37 36  3 13 10 29  0 24 17 20]\n",
      "Used sector:  8\n",
      "Coefficient from Ridge or other regression for this sector:  3.930444165807605e-06\n",
      "Sectors used:  [15 22 25 19 35 10 23  0 36 13 18 37 14 34 26 28 32  7  5  1  6 24  9 12\n",
      " 33 30  8 17 31 29 21  4 20  2 27 16  3 11]\n",
      "Used sector:  15\n",
      "Coefficient from Ridge or other regression for this sector:  -0.0009769963575373417\n",
      "Sectors used:  [ 8 12  2 15  5  6 34 30 23  4 31 25 28  9  1 33 16 11 27  7 18 14 19 21\n",
      " 22 35 37 26 32 36 10  3  0 13 24 20 17 29]\n",
      "Used sector:  8\n",
      "Coefficient from Ridge or other regression for this sector:  0.006470891383120696\n",
      "Sectors used:  [35  3 17  7 23 30 14  4  0 16 36 10  1 26 20 32 34 33  9 29 24 22  2 27\n",
      " 37 28 13  6 15 11 31 21 25 12  5 19 18  8]\n",
      "Used sector:  35\n",
      "Coefficient from Ridge or other regression for this sector:  -1.7900319193678438e-05\n",
      "Sectors used:  [32 28 34 36 33 15 21  8  9 16 23 31 24  5 14 22 13  3 20 29 17 37  7  4\n",
      " 27  1 26 18 30 19  0 10 25 35  6 11 12  2]\n",
      "Used sector:  32\n",
      "Coefficient from Ridge or other regression for this sector:  -0.0021764792238355025\n",
      "Sectors used:  [ 5  8  4 13 36 16 14 15 19 34 26 10  0 37 31 24 33 28  7 27 35 20 30 23\n",
      " 11 21  3  2 17  9  6 18 22 12 29  1 25 32]\n",
      "Used sector:  5\n",
      "Coefficient from Ridge or other regression for this sector:  -0.020957086612895325\n",
      "Sectors used:  [ 1 34  2 11 31  5 16 23 33 21 22 12  6  0 32 27 37  3 13 30  8  4  7 18\n",
      " 19 14 26 36 25 28  9 20 17 10 24 15 35 29]\n",
      "Used sector:  1\n",
      "Coefficient from Ridge or other regression for this sector:  1.7462461489251093e-05\n",
      "Sectors used:  [17 12 27  6 11 18 20  5 15  0  2 23 22 30 29 31 34 16 28 35  1 10 26 24\n",
      " 36 13 32  4  7  9 25 37 19  3  8 33 21 14]\n",
      "Used sector:  17\n",
      "Coefficient from Ridge or other regression for this sector:  -5.331661871049597e-06\n",
      "Sectors used:  [ 7 17 14  0  3 30 25 29 23  5 27  9 32 13 26 11 22 28 31 18 36 35 33 12\n",
      "  6 37 10 19 24 21 20  1 15 34 16  4  8  2]\n",
      "Used sector:  7\n",
      "Coefficient from Ridge or other regression for this sector:  0.00013621881473228212\n",
      "Sectors used:  [32 34 36 33 24 21 16 28 15 23 14 20  8  9 18 31 13  2 26  1  7 37  3 27\n",
      " 19  6  0 22  5 17 29 10 11 12 35 25  4 30]\n",
      "Used sector:  32\n",
      "Coefficient from Ridge or other regression for this sector:  -0.01978458282506661\n",
      "Sectors used:  [ 4  3 30 22 16 35 17 36 10 23 34 32  2  9 11 31  1 33 14 29 19 25  0 37\n",
      " 21 28 26 24  5 27 20 18  6  8 13 15  7 12]\n",
      "Used sector:  4\n",
      "Coefficient from Ridge or other regression for this sector:  5.585355073483902e-06\n",
      "Sectors used:  [34 28 24 32 15 30 31  2 20 29  5 17  8 25 14  1 26 27 22 21  0  4 11 37\n",
      " 33  7  9  6 36 12 18 23 10 19 13  3 35 16]\n",
      "Used sector:  34\n",
      "Coefficient from Ridge or other regression for this sector:  0.027803751332087283\n",
      "Sectors used:  [22 21  4 19 30  3 10 32  7 27 11 25  6 17 36 31 15 37 18 29 34 12 16 28\n",
      "  9 14  0  5 13 20 35 26  8 33  2 24 23  1]\n",
      "Used sector:  22\n",
      "Coefficient from Ridge or other regression for this sector:  -0.0008051897192102812\n",
      "Sectors used:  [30 11  8 21 16 14 35 15 20  9 23 10 13 29  6  5 31 37 27 36 22 17  4 25\n",
      " 12  3 19 28  1  0 18  7 32  2 33 24 34 26]\n",
      "Used sector:  30\n",
      "Coefficient from Ridge or other regression for this sector:  -0.00033926819786915795\n",
      "Sectors used:  [30 29 32 14 13 25  7  9  0 28 17  6 22  5 33 18 36 23 12  1 10 21  2 16\n",
      " 11 27 26 24  3 31  4 15 35 37  8 19 34 20]\n",
      "Used sector:  30\n",
      "Coefficient from Ridge or other regression for this sector:  -0.03913859928848307\n",
      "Sectors used:  [35  7  0  3 17 10 36 32 14 33 28 26 22 20 25 23 16 37  1 29 27  9  8 30\n",
      "  5 12  4 18 24 13 34 19  2 21 15  6 11 31]\n",
      "Used sector:  35\n",
      "Coefficient from Ridge or other regression for this sector:  -0.0011182176887138116\n",
      "Sectors used:  [13  4 23  6 25 32 21  1 10 26 19 17 34 28 24 11  5 14 33 35  9  3  7 27\n",
      "  2 20 15 29 36  0 16 18 22  8 12 31 37 30]\n",
      "Used sector:  13\n",
      "Coefficient from Ridge or other regression for this sector:  0.0007571822470221001\n",
      "Sectors used:  [34 35 25 30 31  0 22 36 15 14 37  1  9 20  8 23 26 13  5 28 11  2 17 24\n",
      "  7 32 18 10 29 33 16 12  4  6 21 27  3 19]\n",
      "Used sector:  34\n",
      "Coefficient from Ridge or other regression for this sector:  -0.004531896956638236\n",
      "Sectors used:  [15 35 12  7  0 18 21  3 33 37 19 14 24 25 23 20 10 32 31 30 34 13 29 27\n",
      "  4  9 26 16  8  2 36  1 17 22  6 11  5 28]\n",
      "Used sector:  15\n",
      "Coefficient from Ridge or other regression for this sector:  -0.14257974906356388\n",
      "Sectors used:  [11 27 15 26 35  2  7 28 17 37 19  0  4 23 29  9  1 18 24 13 34 32 20 14\n",
      " 12 30  6 16 31  8  3 10 22 25 21 36  5 33]\n",
      "Used sector:  11\n",
      "Coefficient from Ridge or other regression for this sector:  0.07257213100843125\n",
      "Sectors used:  [28 26 15 37  1 23 20  3 16 30 22 31  7  8 29 13 27 25 14 10 33 12  9  2\n",
      "  5 24 17 11  6  0 35 21 32 19  4 18 34 36]\n",
      "Used sector:  28\n",
      "Coefficient from Ridge or other regression for this sector:  0.013244228264448847\n",
      "Sectors used:  [30 20 35 31 15 14 27  8 12  7 29 24 36  3 13 28 17 11  0 33 34  4 37 16\n",
      " 21  5 10  1  6 22 18 26 23  2 32 25 19  9]\n",
      "Used sector:  30\n",
      "Coefficient from Ridge or other regression for this sector:  0.025263520232727984\n",
      "Sectors used:  [24 19 17 21  8 13 20 15  1 11 18  7 27  6  4 31 36 22  2  9  3 30 37 12\n",
      " 32 33 23 25 16 34 35  5 26 29  0 28 10 14]\n",
      "Used sector:  24\n",
      "Coefficient from Ridge or other regression for this sector:  -0.05566413273458234\n",
      "Sectors used:  [24 17 23 33 21  1  6 18 19 20 37 15  9 27  0 30 11 26 25 13 22 12 16  8\n",
      " 35 28 14  7 10 31  3 36 29  5  4 32  2 34]\n",
      "Used sector:  24\n",
      "Coefficient from Ridge or other regression for this sector:  -0.00028353760005292433\n",
      "Sectors used:  [27  3  7  0  8  5 28 29 11 16 26 17 30 15 18  9 21 14 36 37  4 32 12  2\n",
      " 33 31  6 35 25 10 34 20 24 22  1 13 19 23]\n",
      "Used sector:  27\n",
      "Coefficient from Ridge or other regression for this sector:  0.00042832544561123684\n",
      "Sectors used:  [ 2 30 28 15 24 36 19 29 18 12  0  9 27 20 21 10  5 17 32 31  8  3 33  1\n",
      " 11  6 23 35 37 16  4  7 14 25 34 13 22 26]\n",
      "Used sector:  2\n",
      "Coefficient from Ridge or other regression for this sector:  0.06255493385409468\n",
      "Sectors used:  [18 17 30 36 21  4 15 31  6 19 26 20 22 23 16 25 13 35  8 28  1  9 27  7\n",
      " 14 11 12 24  5 37  0 10 29  3 34 32 33  2]\n",
      "Used sector:  18\n",
      "Coefficient from Ridge or other regression for this sector:  -0.0019506382074217774\n",
      "Sectors used:  [17 31 32 11 13 15 30 25 18 37 14 28 26  5 24 35 27  2 29 20 21  6 34 23\n",
      " 22 10 33 12  9  8  4 19  3  7 36  0 16  1]\n",
      "Used sector:  17\n",
      "Coefficient from Ridge or other regression for this sector:  -0.07842289417247465\n",
      "Sectors used:  [21 23  8 11 16 20 28  4 24 15 32 25 31 18 26 34  1 22 12  9 30 27 13  6\n",
      " 37 10 29  5  2 33 19 36  7  3 14 17  0 35]\n",
      "Used sector:  21\n",
      "Coefficient from Ridge or other regression for this sector:  -0.00047187875721163385\n",
      "Sectors used:  [17  3 10 32 35 37 28  4 36 25 15 29  6 21 30 22 26 12 19  8 31 16 11 20\n",
      " 18  0 34 24 13  7  2 23  1 33 14  9 27  5]\n",
      "Used sector:  17\n",
      "Coefficient from Ridge or other regression for this sector:  -0.0013069190421497426\n",
      "Sectors used:  [ 7 30  1  4 27 18  2 37 16 21 32 23  0 26 11 29 14  9 25 24 31 20 28 34\n",
      " 19 17 33  6 10  3  5  8 13 12 36 15 35 22]\n",
      "Used sector:  7\n",
      "Coefficient from Ridge or other regression for this sector:  -0.005514468964407713\n",
      "Sectors used:  [11 22 33  1  7  4 31 34 23 30  5 13  0 16  2  3  9 32 21 26 19 28 37  6\n",
      " 12 18 20  8 25 14 15 27 10 17 29 24 36 35]\n",
      "Used sector:  11\n",
      "Coefficient from Ridge or other regression for this sector:  0.01413583431892802\n",
      "Sectors used:  [27 11 20 30 17  3  2 15  0 10  8 14 23 26 18 24  6 36 28 37  9  1 25 32\n",
      " 13 16 29 34  7 21 35 19 33 12 22 31  4  5]\n",
      "Used sector:  27\n",
      "Coefficient from Ridge or other regression for this sector:  0.009174879343974854\n",
      "Sectors used:  [18 27  3 11 30  4 20 15 29 17 32  5 26 13  0 21  1 14 28  8 35 16  9 34\n",
      " 19 33 25 23 22 36 12  6  7 24 31  2 10 37]\n",
      "Used sector:  18\n",
      "Coefficient from Ridge or other regression for this sector:  -0.00038178964797079735\n",
      "Sectors used:  [21 18  5 12 10  0 11 36 26 22  1 27 29 20 37 31 15 30 17 19 23 32  9  7\n",
      "  3  6  8 33  4 35 34 16 25 14 13 28 24  2]\n",
      "Used sector:  21\n",
      "Coefficient from Ridge or other regression for this sector:  -0.06246580406972455\n",
      "Sectors used:  [12 13 29 25 15  1 28 11 10  7 31 32  5  0 30 18 27 23 37 36 17  6 22 33\n",
      "  9 26 14  3 34 24 19 21  4  2  8 16 20 35]\n",
      "Used sector:  12\n",
      "Coefficient from Ridge or other regression for this sector:  0.04243312009123328\n",
      "Sectors used:  [15 24 31 23 18 22 14 28 21  1  2 11 16 12 37 30 29 10 26 17 20  0 32  3\n",
      " 25 19 13 35  5 27  6  9  7  8  4 34 36 33]\n",
      "Used sector:  15\n",
      "Coefficient from Ridge or other regression for this sector:  -0.2645449949938217\n",
      "Sectors used:  [15 30 32 24 13 26 11 18 12 14 10  6 31 20 22 36 35 23 37  7 34  1  4 19\n",
      " 29 25 16  8  5  0 27 21  9  3  2 33 17 28]\n",
      "Used sector:  15\n",
      "Coefficient from Ridge or other regression for this sector:  0.7692246499857845\n"
     ]
    },
    {
     "data": {
      "image/png": "[encoded data removed]",
      "text/plain": [
       "<Figure size 640x480 with 1 Axes>"
      ]
     },
     "metadata": {},
     "output_type": "display_data"
    }
   ],
   "source": [
    "#Select the 16th observation for the cheque of the LIME\n",
    "time\n",
    "# Hide color is the color for a superpixel turned OFF. Alternatively, if it is NONE, the superpixel will be replaced by the average of its pixels\n",
    "explanation = explainer.explain_instance(img_orig, mymodel.predict, top_labels=40, hide_color=0, num_samples=100)"
   ]
  },
  {
   "cell_type": "code",
   "execution_count": 22,
   "metadata": {},
   "outputs": [
    {
     "data": {
      "text/plain": [
       "<matplotlib.image.AxesImage at 0x173fb5b90>"
      ]
     },
     "execution_count": 22,
     "metadata": {},
     "output_type": "execute_result"
    },
    {
     "data": {
      "image/png": "[encoded data removed]",
      "text/plain": [
       "<Figure size 640x480 with 1 Axes>"
      ]
     },
     "metadata": {},
     "output_type": "display_data"
    }
   ],
   "source": [
    "plt.imshow(perturbed_images[1])\n"
   ]
  },
  {
   "cell_type": "code",
   "execution_count": 80,
   "metadata": {},
   "outputs": [
    {
     "data": {
      "text/plain": [
       "{25: 0.0032413548888533673,\n",
       " 26: 0.000308732742089215,\n",
       " 27: 5.789143976984102e-06,\n",
       " 28: 0.001109472289427098,\n",
       " 29: 0.010861003205744372,\n",
       " 30: 1.2774882316267079e-05,\n",
       " 22: 0.001999135508909629,\n",
       " 31: 0.003975125820535998,\n",
       " 33: 2.1316996056383502e-05,\n",
       " 34: -1.7349933469188068e-08,\n",
       " 35: -0.0001370933089363697,\n",
       " 36: 0.011858966574574213,\n",
       " 37: 5.025735843599391e-06,\n",
       " 38: 0.014698040160393847,\n",
       " 39: 0.0010588945441198964,\n",
       " 40: -0.000320466643777981,\n",
       " 32: -0.015842224064497923,\n",
       " 41: -0.00040456861117467793,\n",
       " 42: 0.0009816043729727016,\n",
       " 19: -0.0013798739728156414,\n",
       " 3: 0.09594396580001688,\n",
       " 7: 0.1043141359619176,\n",
       " 8: 0.01716370520199984,\n",
       " 20: 0.02465611362160479,\n",
       " 10: 0.06099437357232026,\n",
       " 11: 9.640338622939778e-05,\n",
       " 9: 6.0388270877144776e-05,\n",
       " 13: 0.1211760948302367,\n",
       " 14: 0.004015842239521104,\n",
       " 15: 0.05816643548736938,\n",
       " 16: 0.0005612340086296576,\n",
       " 17: 0.0008870026243274991,\n",
       " 18: 0.003760776905897368,\n",
       " 12: 0.016964542235655484,\n",
       " 6: 0.004976254429427132,\n",
       " 0: 0.0002425913338517236,\n",
       " 4: 0.09712203167529779,\n",
       " 2: 0.03173472279884007,\n",
       " 5: 0.22792323650006632,\n",
       " 1: 0.09875976420396892}"
      ]
     },
     "execution_count": 80,
     "metadata": {},
     "output_type": "execute_result"
    }
   ],
   "source": [
    "explanation.intercept"
   ]
  },
  {
   "cell_type": "code",
   "execution_count": 81,
   "metadata": {},
   "outputs": [
    {
     "data": {
      "text/plain": [
       "{25: 0.35079305109706294,\n",
       " 26: 0.45743218740703184,\n",
       " 27: 0.3834568762772108,\n",
       " 28: 0.3581193719101703,\n",
       " 29: 0.37532157142002165,\n",
       " 30: 0.3474729570981294,\n",
       " 22: 0.409281582335982,\n",
       " 31: 0.4272143474018284,\n",
       " 33: 0.3543165947410146,\n",
       " 34: 0.5178594710700052,\n",
       " 35: 0.4268443910265042,\n",
       " 36: 0.38446290283995943,\n",
       " 37: 0.3806348237824535,\n",
       " 38: 0.45644156425906834,\n",
       " 39: 0.37544212182951275,\n",
       " 40: 0.45958359034455143,\n",
       " 32: 0.4518322473461571,\n",
       " 41: 0.33938723947152283,\n",
       " 42: 0.37534098161408225,\n",
       " 19: 0.3860222160708249,\n",
       " 3: 0.5098569295317705,\n",
       " 7: 0.5057410405298044,\n",
       " 8: 0.3645281806027705,\n",
       " 20: 0.40593377231539196,\n",
       " 10: 0.30410473841358243,\n",
       " 11: 0.45748428967056365,\n",
       " 9: 0.3546291527370605,\n",
       " 13: 0.39874046044602796,\n",
       " 14: 0.27416189990810813,\n",
       " 15: 0.4460019585611563,\n",
       " 16: 0.34257606119208717,\n",
       " 17: 0.4374244735362435,\n",
       " 18: 0.503830596127159,\n",
       " 12: 0.32855107624507107,\n",
       " 6: 0.38423544173930035,\n",
       " 0: 0.3796663775722452,\n",
       " 4: 0.4905060385683784,\n",
       " 2: 0.49217389631327,\n",
       " 5: 0.5817594342811538,\n",
       " 1: 0.9101681396585337}"
      ]
     },
     "execution_count": 81,
     "metadata": {},
     "output_type": "execute_result"
    }
   ],
   "source": [
    "explanation.score"
   ]
  },
  {
   "cell_type": "code",
   "execution_count": 82,
   "metadata": {},
   "outputs": [
    {
     "data": {
      "text/plain": [
       "[(18, -0.00038178964797079735),\n",
       " (27, 0.00033254220178616163),\n",
       " (3, 0.00029118965085988077),\n",
       " (30, -0.0002827754291600925),\n",
       " (11, -0.0002706552067149152),\n",
       " (15, -0.00023916680011341107),\n",
       " (4, -0.000225708264308699),\n",
       " (17, 0.00021291679217829158),\n",
       " (20, 0.00019913508468629327),\n",
       " (29, -0.00019559444516879036),\n",
       " (26, 0.00019454204829186987),\n",
       " (32, -0.00017587555260947332),\n",
       " (5, 0.00017137879574675988),\n",
       " (0, 0.00017022047985676574),\n",
       " (13, -0.00016852395145982592),\n",
       " (14, -0.00016682655490077945),\n",
       " (21, -0.00016395924567239053),\n",
       " (1, 0.00015086009800932085),\n",
       " (8, -0.00014129560157965),\n",
       " (28, -0.00013937869428444204),\n",
       " (35, 0.00013786894918544127),\n",
       " (9, 0.00012085894016405184),\n",
       " (19, -0.00011754631524645495),\n",
       " (16, 0.00011457410033190446),\n",
       " (34, -0.0001129837771959289),\n",
       " (33, 0.00010890872668264537),\n",
       " (22, 9.52708173877752e-05),\n",
       " (25, 8.411586308464721e-05),\n",
       " (23, 7.517338869612162e-05),\n",
       " (24, 7.20749006293563e-05),\n",
       " (6, -6.41950284299753e-05),\n",
       " (36, 5.9173095447698835e-05),\n",
       " (12, -4.34563401687283e-05),\n",
       " (7, 3.6746426975964754e-05),\n",
       " (31, 3.432992299943712e-05),\n",
       " (10, 2.2612141535417226e-05),\n",
       " (37, 8.046058670533801e-06),\n",
       " (2, 7.677078826527777e-06)]"
      ]
     },
     "execution_count": 82,
     "metadata": {},
     "output_type": "execute_result"
    }
   ],
   "source": [
    "explanation.local_exp[0]"
   ]
  },
  {
   "cell_type": "code",
   "execution_count": 52,
   "metadata": {},
   "outputs": [
    {
     "data": {
      "text/plain": [
       "(-0.5, 37.5, 99.5, -0.5)"
      ]
     },
     "execution_count": 52,
     "metadata": {},
     "output_type": "execute_result"
    },
    {
     "data": {
      "image/png": "[encoded data removed]",
      "text/plain": [
       "<Figure size 3000x3000 with 1 Axes>"
      ]
     },
     "metadata": {},
     "output_type": "display_data"
    }
   ],
   "source": [
    "# Visialization of the input for the ridge regression.\n",
    "\n",
    "fig, ax = plt.subplots(figsize=(30, 30))\n",
    "ax.imshow(ridge_input_x[0], cmap='gray')\n",
    "\n",
    "for i in range(ridge_input_x[0].shape[0]):\n",
    "    for j in range(ridge_input_x[0].shape[1]):\n",
    "        ax.text(j, i, ridge_input_x[0][i, j], color='cornflowerblue', ha='center', va='center', size=7)\n",
    "plt.axis('off')"
   ]
  },
  {
   "cell_type": "code",
   "execution_count": 45,
   "metadata": {},
   "outputs": [
    {
     "data": {
      "text/html": [
       "<div>\n",
       "<style scoped>\n",
       "    .dataframe tbody tr th:only-of-type {\n",
       "        vertical-align: middle;\n",
       "    }\n",
       "\n",
       "    .dataframe tbody tr th {\n",
       "        vertical-align: top;\n",
       "    }\n",
       "\n",
       "    .dataframe thead th {\n",
       "        text-align: right;\n",
       "    }\n",
       "</style>\n",
       "<table border=\"1\" class=\"dataframe\">\n",
       "  <thead>\n",
       "    <tr style=\"text-align: right;\">\n",
       "      <th></th>\n",
       "      <th>0</th>\n",
       "      <th>1</th>\n",
       "      <th>2</th>\n",
       "      <th>3</th>\n",
       "      <th>4</th>\n",
       "      <th>5</th>\n",
       "      <th>6</th>\n",
       "      <th>7</th>\n",
       "      <th>8</th>\n",
       "      <th>9</th>\n",
       "      <th>...</th>\n",
       "      <th>28</th>\n",
       "      <th>29</th>\n",
       "      <th>30</th>\n",
       "      <th>31</th>\n",
       "      <th>32</th>\n",
       "      <th>33</th>\n",
       "      <th>34</th>\n",
       "      <th>35</th>\n",
       "      <th>36</th>\n",
       "      <th>37</th>\n",
       "    </tr>\n",
       "  </thead>\n",
       "  <tbody>\n",
       "    <tr>\n",
       "      <th>0</th>\n",
       "      <td>0.2</td>\n",
       "      <td>0.2</td>\n",
       "      <td>0.2</td>\n",
       "      <td>0.2</td>\n",
       "      <td>0.2</td>\n",
       "      <td>0.2</td>\n",
       "      <td>0.2</td>\n",
       "      <td>0.2</td>\n",
       "      <td>0.2</td>\n",
       "      <td>0.2</td>\n",
       "      <td>...</td>\n",
       "      <td>0.2</td>\n",
       "      <td>0.2</td>\n",
       "      <td>0.2</td>\n",
       "      <td>0.2</td>\n",
       "      <td>0.2</td>\n",
       "      <td>0.2</td>\n",
       "      <td>0.2</td>\n",
       "      <td>0.2</td>\n",
       "      <td>0.2</td>\n",
       "      <td>0.2</td>\n",
       "    </tr>\n",
       "    <tr>\n",
       "      <th>1</th>\n",
       "      <td>0.2</td>\n",
       "      <td>0.0</td>\n",
       "      <td>0.0</td>\n",
       "      <td>0.0</td>\n",
       "      <td>0.2</td>\n",
       "      <td>0.2</td>\n",
       "      <td>0.2</td>\n",
       "      <td>0.2</td>\n",
       "      <td>0.2</td>\n",
       "      <td>0.2</td>\n",
       "      <td>...</td>\n",
       "      <td>0.2</td>\n",
       "      <td>0.0</td>\n",
       "      <td>0.2</td>\n",
       "      <td>0.0</td>\n",
       "      <td>0.2</td>\n",
       "      <td>0.0</td>\n",
       "      <td>0.0</td>\n",
       "      <td>0.2</td>\n",
       "      <td>0.2</td>\n",
       "      <td>0.0</td>\n",
       "    </tr>\n",
       "    <tr>\n",
       "      <th>2</th>\n",
       "      <td>0.2</td>\n",
       "      <td>0.2</td>\n",
       "      <td>0.2</td>\n",
       "      <td>0.0</td>\n",
       "      <td>0.0</td>\n",
       "      <td>0.2</td>\n",
       "      <td>0.2</td>\n",
       "      <td>0.2</td>\n",
       "      <td>0.0</td>\n",
       "      <td>0.0</td>\n",
       "      <td>...</td>\n",
       "      <td>0.2</td>\n",
       "      <td>0.0</td>\n",
       "      <td>0.0</td>\n",
       "      <td>0.2</td>\n",
       "      <td>0.2</td>\n",
       "      <td>0.0</td>\n",
       "      <td>0.0</td>\n",
       "      <td>0.0</td>\n",
       "      <td>0.2</td>\n",
       "      <td>0.0</td>\n",
       "    </tr>\n",
       "    <tr>\n",
       "      <th>3</th>\n",
       "      <td>0.0</td>\n",
       "      <td>0.2</td>\n",
       "      <td>0.2</td>\n",
       "      <td>0.2</td>\n",
       "      <td>0.0</td>\n",
       "      <td>0.0</td>\n",
       "      <td>0.0</td>\n",
       "      <td>0.2</td>\n",
       "      <td>0.2</td>\n",
       "      <td>0.2</td>\n",
       "      <td>...</td>\n",
       "      <td>0.2</td>\n",
       "      <td>0.0</td>\n",
       "      <td>0.0</td>\n",
       "      <td>0.2</td>\n",
       "      <td>0.0</td>\n",
       "      <td>0.0</td>\n",
       "      <td>0.2</td>\n",
       "      <td>0.2</td>\n",
       "      <td>0.0</td>\n",
       "      <td>0.2</td>\n",
       "    </tr>\n",
       "    <tr>\n",
       "      <th>4</th>\n",
       "      <td>0.2</td>\n",
       "      <td>0.0</td>\n",
       "      <td>0.0</td>\n",
       "      <td>0.0</td>\n",
       "      <td>0.2</td>\n",
       "      <td>0.2</td>\n",
       "      <td>0.2</td>\n",
       "      <td>0.2</td>\n",
       "      <td>0.0</td>\n",
       "      <td>0.2</td>\n",
       "      <td>...</td>\n",
       "      <td>0.2</td>\n",
       "      <td>0.2</td>\n",
       "      <td>0.2</td>\n",
       "      <td>0.2</td>\n",
       "      <td>0.0</td>\n",
       "      <td>0.0</td>\n",
       "      <td>0.2</td>\n",
       "      <td>0.2</td>\n",
       "      <td>0.0</td>\n",
       "      <td>0.2</td>\n",
       "    </tr>\n",
       "    <tr>\n",
       "      <th>...</th>\n",
       "      <td>...</td>\n",
       "      <td>...</td>\n",
       "      <td>...</td>\n",
       "      <td>...</td>\n",
       "      <td>...</td>\n",
       "      <td>...</td>\n",
       "      <td>...</td>\n",
       "      <td>...</td>\n",
       "      <td>...</td>\n",
       "      <td>...</td>\n",
       "      <td>...</td>\n",
       "      <td>...</td>\n",
       "      <td>...</td>\n",
       "      <td>...</td>\n",
       "      <td>...</td>\n",
       "      <td>...</td>\n",
       "      <td>...</td>\n",
       "      <td>...</td>\n",
       "      <td>...</td>\n",
       "      <td>...</td>\n",
       "      <td>...</td>\n",
       "    </tr>\n",
       "    <tr>\n",
       "      <th>95</th>\n",
       "      <td>0.0</td>\n",
       "      <td>0.2</td>\n",
       "      <td>0.2</td>\n",
       "      <td>0.2</td>\n",
       "      <td>0.0</td>\n",
       "      <td>0.2</td>\n",
       "      <td>0.2</td>\n",
       "      <td>0.2</td>\n",
       "      <td>0.0</td>\n",
       "      <td>0.2</td>\n",
       "      <td>...</td>\n",
       "      <td>0.2</td>\n",
       "      <td>0.2</td>\n",
       "      <td>0.2</td>\n",
       "      <td>0.0</td>\n",
       "      <td>0.0</td>\n",
       "      <td>0.0</td>\n",
       "      <td>0.0</td>\n",
       "      <td>0.2</td>\n",
       "      <td>0.2</td>\n",
       "      <td>0.0</td>\n",
       "    </tr>\n",
       "    <tr>\n",
       "      <th>96</th>\n",
       "      <td>0.2</td>\n",
       "      <td>0.0</td>\n",
       "      <td>0.2</td>\n",
       "      <td>0.2</td>\n",
       "      <td>0.2</td>\n",
       "      <td>0.0</td>\n",
       "      <td>0.2</td>\n",
       "      <td>0.2</td>\n",
       "      <td>0.0</td>\n",
       "      <td>0.2</td>\n",
       "      <td>...</td>\n",
       "      <td>0.0</td>\n",
       "      <td>0.2</td>\n",
       "      <td>0.0</td>\n",
       "      <td>0.2</td>\n",
       "      <td>0.0</td>\n",
       "      <td>0.2</td>\n",
       "      <td>0.0</td>\n",
       "      <td>0.2</td>\n",
       "      <td>0.2</td>\n",
       "      <td>0.0</td>\n",
       "    </tr>\n",
       "    <tr>\n",
       "      <th>97</th>\n",
       "      <td>0.2</td>\n",
       "      <td>0.2</td>\n",
       "      <td>0.2</td>\n",
       "      <td>0.2</td>\n",
       "      <td>0.0</td>\n",
       "      <td>0.2</td>\n",
       "      <td>0.0</td>\n",
       "      <td>0.0</td>\n",
       "      <td>0.0</td>\n",
       "      <td>0.0</td>\n",
       "      <td>...</td>\n",
       "      <td>0.0</td>\n",
       "      <td>0.2</td>\n",
       "      <td>0.2</td>\n",
       "      <td>0.2</td>\n",
       "      <td>0.2</td>\n",
       "      <td>0.2</td>\n",
       "      <td>0.0</td>\n",
       "      <td>0.2</td>\n",
       "      <td>0.0</td>\n",
       "      <td>0.2</td>\n",
       "    </tr>\n",
       "    <tr>\n",
       "      <th>98</th>\n",
       "      <td>0.0</td>\n",
       "      <td>0.0</td>\n",
       "      <td>0.0</td>\n",
       "      <td>0.2</td>\n",
       "      <td>0.2</td>\n",
       "      <td>0.2</td>\n",
       "      <td>0.0</td>\n",
       "      <td>0.0</td>\n",
       "      <td>0.2</td>\n",
       "      <td>0.0</td>\n",
       "      <td>...</td>\n",
       "      <td>0.2</td>\n",
       "      <td>0.0</td>\n",
       "      <td>0.2</td>\n",
       "      <td>0.2</td>\n",
       "      <td>0.0</td>\n",
       "      <td>0.2</td>\n",
       "      <td>0.0</td>\n",
       "      <td>0.2</td>\n",
       "      <td>0.2</td>\n",
       "      <td>0.0</td>\n",
       "    </tr>\n",
       "    <tr>\n",
       "      <th>99</th>\n",
       "      <td>0.0</td>\n",
       "      <td>0.2</td>\n",
       "      <td>0.0</td>\n",
       "      <td>0.0</td>\n",
       "      <td>0.2</td>\n",
       "      <td>0.0</td>\n",
       "      <td>0.0</td>\n",
       "      <td>0.2</td>\n",
       "      <td>0.2</td>\n",
       "      <td>0.0</td>\n",
       "      <td>...</td>\n",
       "      <td>0.2</td>\n",
       "      <td>0.2</td>\n",
       "      <td>0.0</td>\n",
       "      <td>0.0</td>\n",
       "      <td>0.0</td>\n",
       "      <td>0.2</td>\n",
       "      <td>0.0</td>\n",
       "      <td>0.2</td>\n",
       "      <td>0.0</td>\n",
       "      <td>0.0</td>\n",
       "    </tr>\n",
       "  </tbody>\n",
       "</table>\n",
       "<p>100 rows × 38 columns</p>\n",
       "</div>"
      ],
      "text/plain": [
       "     0    1    2    3    4    5    6    7    8    9   ...   28   29   30   31  \\\n",
       "0   0.2  0.2  0.2  0.2  0.2  0.2  0.2  0.2  0.2  0.2  ...  0.2  0.2  0.2  0.2   \n",
       "1   0.2  0.0  0.0  0.0  0.2  0.2  0.2  0.2  0.2  0.2  ...  0.2  0.0  0.2  0.0   \n",
       "2   0.2  0.2  0.2  0.0  0.0  0.2  0.2  0.2  0.0  0.0  ...  0.2  0.0  0.0  0.2   \n",
       "3   0.0  0.2  0.2  0.2  0.0  0.0  0.0  0.2  0.2  0.2  ...  0.2  0.0  0.0  0.2   \n",
       "4   0.2  0.0  0.0  0.0  0.2  0.2  0.2  0.2  0.0  0.2  ...  0.2  0.2  0.2  0.2   \n",
       "..  ...  ...  ...  ...  ...  ...  ...  ...  ...  ...  ...  ...  ...  ...  ...   \n",
       "95  0.0  0.2  0.2  0.2  0.0  0.2  0.2  0.2  0.0  0.2  ...  0.2  0.2  0.2  0.0   \n",
       "96  0.2  0.0  0.2  0.2  0.2  0.0  0.2  0.2  0.0  0.2  ...  0.0  0.2  0.0  0.2   \n",
       "97  0.2  0.2  0.2  0.2  0.0  0.2  0.0  0.0  0.0  0.0  ...  0.0  0.2  0.2  0.2   \n",
       "98  0.0  0.0  0.0  0.2  0.2  0.2  0.0  0.0  0.2  0.0  ...  0.2  0.0  0.2  0.2   \n",
       "99  0.0  0.2  0.0  0.0  0.2  0.0  0.0  0.2  0.2  0.0  ...  0.2  0.2  0.0  0.0   \n",
       "\n",
       "     32   33   34   35   36   37  \n",
       "0   0.2  0.2  0.2  0.2  0.2  0.2  \n",
       "1   0.2  0.0  0.0  0.2  0.2  0.0  \n",
       "2   0.2  0.0  0.0  0.0  0.2  0.0  \n",
       "3   0.0  0.0  0.2  0.2  0.0  0.2  \n",
       "4   0.0  0.0  0.2  0.2  0.0  0.2  \n",
       "..  ...  ...  ...  ...  ...  ...  \n",
       "95  0.0  0.0  0.0  0.2  0.2  0.0  \n",
       "96  0.0  0.2  0.0  0.2  0.2  0.0  \n",
       "97  0.2  0.2  0.0  0.2  0.0  0.2  \n",
       "98  0.0  0.2  0.0  0.2  0.2  0.0  \n",
       "99  0.0  0.2  0.0  0.2  0.0  0.0  \n",
       "\n",
       "[100 rows x 38 columns]"
      ]
     },
     "execution_count": 45,
     "metadata": {},
     "output_type": "execute_result"
    }
   ],
   "source": [
    "# Pandas DF for the input for the ridge regression.\n",
    "ridge_input_x_df = pd.DataFrame(ridge_input_x[0])\n",
    "ridge_input_x_df"
   ]
  },
  {
   "cell_type": "code",
   "execution_count": 57,
   "metadata": {},
   "outputs": [
    {
     "data": {
      "text/plain": [
       "<matplotlib.image.AxesImage at 0x2f6dcddd0>"
      ]
     },
     "execution_count": 57,
     "metadata": {},
     "output_type": "execute_result"
    },
    {
     "data": {
      "image/png": "[encoded data removed]",
      "text/plain": [
       "<Figure size 640x480 with 1 Axes>"
      ]
     },
     "metadata": {},
     "output_type": "display_data"
    }
   ],
   "source": [
    "#Prediction for \"30km\"\n",
    "#The number of superpixels is 20.\n",
    "\n",
    "temp, mask = explanation.get_image_and_mask(explanation.top_labels[0], positive_only=False, num_features=20, hide_rest=False)\n",
    "plt.imshow(mark_boundaries(temp, mask))\n",
    "#plt.imshow(mark_boundaries(temp / 2 + 0.5, mask))"
   ]
  },
  {
   "cell_type": "code",
   "execution_count": null,
   "metadata": {},
   "outputs": [],
   "source": []
  },
  {
   "cell_type": "code",
   "execution_count": 58,
   "metadata": {},
   "outputs": [
    {
     "data": {
      "text/plain": [
       "<matplotlib.image.AxesImage at 0x2f7e6a150>"
      ]
     },
     "execution_count": 58,
     "metadata": {},
     "output_type": "execute_result"
    },
    {
     "data": {
      "image/png": "[encoded data removed]",
      "text/plain": [
       "<Figure size 640x480 with 1 Axes>"
      ]
     },
     "metadata": {},
     "output_type": "display_data"
    }
   ],
   "source": [
    "#Prediction for \"80km\"\n",
    "# #The number of superpixels is 30.\n",
    "\n",
    "temp, mask = explanation.get_image_and_mask(explanation.top_labels[1], positive_only=False, num_features=20, hide_rest=False)\n",
    "plt.imshow(mark_boundaries(temp, mask))\n",
    "#plt.imshow(mark_boundaries(temp / 2 + 0.5, mask))"
   ]
  },
  {
   "cell_type": "code",
   "execution_count": 32,
   "metadata": {},
   "outputs": [],
   "source": [
    "# SHAP"
   ]
  },
  {
   "cell_type": "code",
   "execution_count": 84,
   "metadata": {},
   "outputs": [
    {
     "name": "stdout",
     "output_type": "stream",
     "text": [
      "1/1 [==============================] - 0s 12ms/step\n"
     ]
    },
    {
     "data": {
      "image/png": "[encoded data removed]",
      "text/plain": [
       "<Figure size 1800x500 with 7 Axes>"
      ]
     },
     "metadata": {},
     "output_type": "display_data"
    }
   ],
   "source": [
    "# based on example: https://shap.readthedocs.io/en/latest/example_notebooks/api_examples/plots/image.html\n",
    "# use class names as a vectorized mapping function from ids to names\n",
    "class_names = list(my_information.values())\n",
    "\n",
    "# define a masker that is used to mask out partitions of the input image, this one uses a blurred background\n",
    "masker = shap.maskers.Image(\"inpaint_telea\", X_test[0].shape)\n",
    "\n",
    "# By default the Partition explainer is used for all  partition explainer\n",
    "explainer = shap.Explainer(model, masker, output_names=class_names)\n",
    "colors = []\n",
    "for l in np.linspace(1,0,100):\n",
    "\tcolors.append((245/255,39/255,87/255,l))\n",
    "for l in np.linspace(0,1,100):\n",
    "\tcolors.append((24/255,196/255,93/255,l))\n",
    "cm = LinearSegmentedColormap.from_list(\"shap\", colors)\n",
    "# here we use 2000 evaluations of the underlying model to estimate the SHAP values\n",
    "ind = (-model.predict(X_test[i].reshape(1,50,50,3))[0]).argsort()\n",
    "shap_values = explainer(X_test[i:i+1]*255, max_evals=2000, batch_size=500, outputs=ind[:5])\n",
    "shap.image_plot(shap_values, pixel_values=X_test[i:i+1], cmap=cm,show=False)\n",
    "    #plt.savefig(\"shap_{}.png\".format(i))"
   ]
  },
  {
   "cell_type": "code",
   "execution_count": 75,
   "metadata": {},
   "outputs": [
    {
     "name": "stderr",
     "output_type": "stream",
     "text": [
      "/opt/homebrew/lib/python3.11/site-packages/keras/src/backend.py:452: UserWarning:\n",
      "\n",
      "`tf.keras.backend.set_learning_phase` is deprecated and will be removed after 2020-10-11. To update it, simply pass a True/False value to the `training` argument of the `__call__` method of your layer or model.\n",
      "\n"
     ]
    }
   ],
   "source": [
    "def load_image(filename):\n",
    "\timg = load_img(filename, target_size=(50, 50))\n",
    "\timg = img_to_array(img)\n",
    "\timg = img.reshape(1, 50, 50, 3)\n",
    "\timg = img.astype('float32')\n",
    "\treturn img\n",
    "\n",
    "file = \"...Test/00001.png\"\n",
    "img = load_image(file)\n",
    "e = shap.GradientExplainer(model, X_test/255, session=None, batch_size=500, local_smoothing=0)\n",
    "shap_values = e.shap_values(img/255)"
   ]
  },
  {
   "cell_type": "code",
   "execution_count": 76,
   "metadata": {},
   "outputs": [
    {
     "name": "stdout",
     "output_type": "stream",
     "text": [
      "1/1 [==============================] - 0s 11ms/step\n"
     ]
    },
    {
     "data": {
      "image/png": "[encoded data removed]",
      "text/plain": [
       "<Figure size 1800x500 with 7 Axes>"
      ]
     },
     "metadata": {},
     "output_type": "display_data"
    }
   ],
   "source": [
    "# plot the feature attributions\n",
    "# make a color map\n",
    "colors = []\n",
    "for l in np.linspace(1,0,100):\n",
    "\tcolors.append((245/255,39/255,87/255,l))\n",
    "for l in np.linspace(0,1,100):\n",
    "\tcolors.append((24/255,196/255,93/255,l))\n",
    "\t\n",
    "cm = LinearSegmentedColormap.from_list(\"shap\", colors)\n",
    "\n",
    "shaps = []\n",
    "for i in range(0,43):\n",
    "    shaps.append([np.sum(shap_values[i]), shap_values[i]])\n",
    "shaps.sort(key=lambda x: x[0], reverse=True)\n",
    "\n",
    "shap_values_updated = []\n",
    "for s in shaps:\n",
    "    shap_values_updated.append(s[1])\n",
    "\n",
    "ind = (-model.predict(img.reshape(1,50,50,3)/255)[0]).argsort()\n",
    "order = []\n",
    "for i in range(0,43):\n",
    "    order.append(list(my_information.values())[(ind)[i]])\n",
    "shap.image_plot(shap_values_updated[0:5], img/255, labels=order, show=True, width=20, hspace=0.2, labelpad=None, cmap=cm)"
   ]
  },
  {
   "cell_type": "code",
   "execution_count": 78,
   "metadata": {},
   "outputs": [
    {
     "name": "stdout",
     "output_type": "stream",
     "text": [
      "1/1 [==============================] - 0s 12ms/step\n"
     ]
    }
   ],
   "source": [
    "def mask_image(zs, segmentation, image, background=None):\n",
    "    \n",
    "    if background is None:\n",
    "        background = image.mean((0, 1))\n",
    "        \n",
    "    # Create an empty 4D array\n",
    "    out = np.zeros((zs.shape[0], \n",
    "                    image.shape[0], \n",
    "                    image.shape[1], \n",
    "                    image.shape[2]))\n",
    "    \n",
    "    for i in range(zs.shape[0]):\n",
    "        out[i, :, :, :] = image\n",
    "        for j in range(zs.shape[1]):\n",
    "            if zs[i, j] == 0:\n",
    "                out[i][segmentation == j, :] = background\n",
    "    return out\n",
    "    \n",
    "def f(z):\n",
    "    return model.predict(\n",
    "        preprocess_input(mask_image(z, segmentation_fn, img_orig, 255)))\n",
    "\n",
    "img = image\n",
    "explainer = shap.KernelExplainer(f, np.zeros((1,200)))"
   ]
  },
  {
   "cell_type": "code",
   "execution_count": 86,
   "metadata": {},
   "outputs": [
    {
     "data": {
      "image/png": "[encoded data removed]",
      "text/plain": [
       "<Figure size 640x480 with 1 Axes>"
      ]
     },
     "metadata": {},
     "output_type": "display_data"
    }
   ],
   "source": [
    "img=img_orig\n",
    "segmentation_fn = SegmentationAlgorithm(\"slic\", n_segments=30, compactness=15, sigma=1)\n",
    "label=segmentation_fn(img)\n",
    "\n",
    "def mean_image(image,label):\n",
    "    im_rp=image.reshape((image.shape[0]*image.shape[1],image.shape[2]))\n",
    "    sli_1d=np.reshape(label,-1)    \n",
    "    uni=np.unique(sli_1d)\n",
    "    uu=np.zeros(im_rp.shape)\n",
    "    for i in uni:\n",
    "        loc=np.where(sli_1d==i)[0]\n",
    "        #print(loc)\n",
    "        mm=np.mean(im_rp[loc,:],axis=0)\n",
    "        uu[loc,:]=mm\n",
    "    oo=np.reshape(uu,[image.shape[0],image.shape[1],image.shape[2]])\n",
    "    return oo\n",
    "    cv.imshow('img',oo)\n",
    "output=mean_image(img,label) # displays the output image.\n",
    "plt.imshow(output)\n",
    "# %time\n",
    "# Colorless segmentation framework\n",
    "segments_slic = slic(img, n_segments=30, compactness=15, sigma=1)\n",
    "plt.imshow(segments_slic, cmap=\"gray\")\n",
    "plt.axis('off');"
   ]
  },
  {
   "cell_type": "code",
   "execution_count": 80,
   "metadata": {},
   "outputs": [
    {
     "name": "stdout",
     "output_type": "stream",
     "text": [
      "1/1 [==============================] - 0s 13ms/step\n"
     ]
    }
   ],
   "source": [
    "def mask_image(zs, segmentation, image, background=None):\n",
    "    \n",
    "    if background is None:\n",
    "        background = image.mean((0, 1))\n",
    "        \n",
    "    # Create an empty 4D array\n",
    "    out = np.zeros((zs.shape[0], \n",
    "                    image.shape[0], \n",
    "                    image.shape[1], \n",
    "                    image.shape[2]))\n",
    "    \n",
    "    for i in range(zs.shape[0]):\n",
    "        out[i, :, :, :] = image\n",
    "        for j in range(zs.shape[1]):\n",
    "            if zs[i, j] == 0:\n",
    "                out[i][segmentation == j, :] = background\n",
    "    return out\n",
    "    \n",
    "def f(z):\n",
    "    return model.predict(\n",
    "        preprocess_input(mask_image(z, segments_slic, img_orig, 255)))\n",
    "img = image\n",
    "explainer = shap.KernelExplainer(f, np.zeros((1,200)))"
   ]
  },
  {
   "cell_type": "code",
   "execution_count": 81,
   "metadata": {},
   "outputs": [
    {
     "data": {
      "application/vnd.jupyter.widget-view+json": {
       "model_id": "e1d8004c631345c2a77151ed6b4cb821",
       "version_major": 2,
       "version_minor": 0
      },
      "text/plain": [
       "  0%|          | 0/1 [00:00<?, ?it/s]"
      ]
     },
     "metadata": {},
     "output_type": "display_data"
    },
    {
     "name": "stdout",
     "output_type": "stream",
     "text": [
      "1/1 [==============================] - 0s 15ms/step\n",
      "63/63 [==============================] - 1s 18ms/step\n"
     ]
    },
    {
     "data": {
      "image/png": "[encoded data removed]",
      "text/plain": [
       "<Figure size 2000x400 with 7 Axes>"
      ]
     },
     "metadata": {},
     "output_type": "display_data"
    }
   ],
   "source": [
    "with warnings.catch_warnings():\n",
    "\twarnings.simplefilter(\"ignore\")\n",
    "\tshap_values = explainer.shap_values(np.ones((1,200)), nsamples=2000) # runs the model 2000 times\n",
    "\n",
    "# make a color map\n",
    "colors = []\n",
    "for l in np.linspace(1,0,100):\n",
    "\tcolors.append((245/255,39/255,87/255,l))\n",
    "for l in np.linspace(0,1,100):\n",
    "\tcolors.append((24/255,196/255,93/255,l))\n",
    "\t\n",
    "cm = LinearSegmentedColormap.from_list(\"shap\", colors)\n",
    "# Visualize the explanations\n",
    "def fill_segmentation(values, segmentation):\n",
    "\tout = np.zeros(segmentation.shape)\n",
    "\tfor i in range(len(values)):\n",
    "\t\tout[segmentation == i] = values[i]\n",
    "\treturn out\n",
    "# plot our explanations\n",
    "fig, axes = plt.subplots(nrows=1, ncols=6, figsize=(20,4))\n",
    "top_5_pred = top_5_pred.reset_index()\n",
    "top_5_pred = top_5_pred.drop(\"index\", axis=1)\n",
    "inds = top_preds[0]\n",
    "axes[0].imshow(img_orig)\n",
    "axes[0].axis('off')\n",
    "img_grey = load_img('...Test/00001.png', target_size=(50, 50))\n",
    "max_val = np.max([np.max(np.abs(shap_values[i][:,:-1])) for i in range(len(shap_values))])\n",
    "for i in range(5):\n",
    "\tm = fill_segmentation(shap_values[inds[i]][0], segments_slic)\n",
    "\taxes[i+1].set_title(top_5_pred[\"feature_names\"].iloc[i])\n",
    "\taxes[i+1].imshow(img_grey.convert('LA'), alpha=0.15)\n",
    "\tim = axes[i+1].imshow(m, cmap=cm, vmin=-max_val, vmax=max_val)\n",
    "\taxes[i+1].axis('off')\n",
    "cb = fig.colorbar(im, ax=axes.ravel().tolist(), label=\"SHAP value\", orientation=\"horizontal\", aspect=60)\n",
    "cb.outline.set_visible(False)\n",
    "plt.show()\n"
   ]
  },
  {
   "cell_type": "code",
   "execution_count": null,
   "metadata": {},
   "outputs": [],
   "source": []
  }
 ],
 "metadata": {
  "kernelspec": {
   "display_name": "Python 3",
   "language": "python",
   "name": "python3"
  },
  "language_info": {
   "codemirror_mode": {
    "name": "ipython",
    "version": 3
   },
   "file_extension": ".py",
   "mimetype": "text/x-python",
   "name": "python",
   "nbconvert_exporter": "python",
   "pygments_lexer": "ipython3",
   "version": "3.11.4"
  },
  "orig_nbformat": 4
 },
 "nbformat": 4,
 "nbformat_minor": 2
}
